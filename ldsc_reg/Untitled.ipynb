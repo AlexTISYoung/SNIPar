{
 "cells": [
  {
   "cell_type": "code",
   "execution_count": 1,
   "metadata": {},
   "outputs": [],
   "source": [
    "import numpy as np\n",
    "import h5py\n",
    "import glob\n",
    "import datetime\n",
    "import matplotlib.pyplot as plt\n",
    "import pandas as pd\n",
    "import logging\n",
    "import argparse\n",
    "\n",
    "import sys\n",
    "import os\n",
    "import sib_ldsc_z as ld\n",
    "\n",
    "def print_call(call):\n",
    "    \n",
    "    '''\n",
    "    Gives the call given to python\n",
    "    in a nice string\n",
    "    '''\n",
    "    \n",
    "    message = ''\n",
    "    for i in range(len(call)):\n",
    "        if call[i][0] != \"-\":\n",
    "            message += call[i]\n",
    "            message += ' \\\\ \\n'\n",
    "        else:\n",
    "            message += call[i] + \" \"\n",
    "    \n",
    "    return message[1:-1]"
   ]
  },
  {
   "cell_type": "code",
   "execution_count": 3,
   "metadata": {},
   "outputs": [
    {
     "name": "stdout",
     "output_type": "stream",
     "text": [
      "Reading in file:  /disk/genetics/ukb/alextisyoung/haplotypes/relatives/traits/12/chr_14.hdf5\n",
      "Reading in file:  /disk/genetics/ukb/alextisyoung/haplotypes/relatives/traits/12/chr_21.hdf5\n",
      "Reading in file:  /disk/genetics/ukb/alextisyoung/haplotypes/relatives/traits/12/chr_10.hdf5\n",
      "Reading in file:  /disk/genetics/ukb/alextisyoung/haplotypes/relatives/traits/12/chr_6.hdf5\n",
      "Reading in file:  /disk/genetics/ukb/alextisyoung/haplotypes/relatives/traits/12/chr_18.hdf5\n",
      "Reading in file:  /disk/genetics/ukb/alextisyoung/haplotypes/relatives/traits/12/chr_2.hdf5\n",
      "Reading in file:  /disk/genetics/ukb/alextisyoung/haplotypes/relatives/traits/12/chr_7.hdf5\n",
      "Reading in file:  /disk/genetics/ukb/alextisyoung/haplotypes/relatives/traits/12/chr_19.hdf5\n",
      "Reading in file:  /disk/genetics/ukb/alextisyoung/haplotypes/relatives/traits/12/chr_3.hdf5\n",
      "Reading in file:  /disk/genetics/ukb/alextisyoung/haplotypes/relatives/traits/12/chr_15.hdf5\n",
      "Reading in file:  /disk/genetics/ukb/alextisyoung/haplotypes/relatives/traits/12/chr_20.hdf5\n",
      "Reading in file:  /disk/genetics/ukb/alextisyoung/haplotypes/relatives/traits/12/chr_11.hdf5\n",
      "Reading in file:  /disk/genetics/ukb/alextisyoung/haplotypes/relatives/traits/12/chr_5.hdf5\n",
      "Reading in file:  /disk/genetics/ukb/alextisyoung/haplotypes/relatives/traits/12/chr_1.hdf5\n",
      "Reading in file:  /disk/genetics/ukb/alextisyoung/haplotypes/relatives/traits/12/chr_17.hdf5\n",
      "Reading in file:  /disk/genetics/ukb/alextisyoung/haplotypes/relatives/traits/12/chr_9.hdf5\n",
      "Reading in file:  /disk/genetics/ukb/alextisyoung/haplotypes/relatives/traits/12/chr_22.hdf5\n",
      "Reading in file:  /disk/genetics/ukb/alextisyoung/haplotypes/relatives/traits/12/chr_13.hdf5\n",
      "Reading in file:  /disk/genetics/ukb/alextisyoung/haplotypes/relatives/traits/12/chr_16.hdf5\n",
      "Reading in file:  /disk/genetics/ukb/alextisyoung/haplotypes/relatives/traits/12/chr_8.hdf5\n",
      "Reading in file:  /disk/genetics/ukb/alextisyoung/haplotypes/relatives/traits/12/chr_12.hdf5\n",
      "Reading in file:  /disk/genetics/ukb/alextisyoung/haplotypes/relatives/traits/12/chr_4.hdf5\n"
     ]
    }
   ],
   "source": [
    "files = glob.glob(\"/disk/genetics/ukb/alextisyoung/haplotypes/relatives/traits/12//chr_*.hdf5\")\n",
    "\n",
    "file = files[0]\n",
    "print(\"Reading in file: \", file)\n",
    "hf = h5py.File(file, 'r')\n",
    "metadata = hf.get(\"bim\")[()]\n",
    "chromosome = metadata[:, 0]\n",
    "snp = metadata[:, 1]\n",
    "bp = metadata[:, 3]\n",
    "theta  = hf.get('estimate')[()]\n",
    "se  = hf.get('estimate_ses')[()]\n",
    "N = hf.get('N_L')[()]\n",
    "S = hf.get('estimate_covariance')[()]\n",
    "f = hf.get('freqs')[()]\n",
    "\n",
    "# normalizing S\n",
    "sigma2 = hf.get('sigma2')[()]\n",
    "tau = hf.get('tau')[()]\n",
    "phvar = sigma2+sigma2/tau\n",
    "\n",
    "if len(files) > 1:\n",
    "    for file in files[1:]:\n",
    "        print(\"Reading in file: \", file)\n",
    "        hf = h5py.File(file, 'r')\n",
    "        metadata = hf.get(\"bim\")[()]\n",
    "        chromosome_file = metadata[:, 0]  \n",
    "        snp_file = metadata[:, 1]\n",
    "        bp_file = metadata[:, 3]\n",
    "        theta_file  = hf.get('estimate')[()]\n",
    "        se_file  = hf.get('estimate_ses')[()]\n",
    "        S_file = hf.get('estimate_covariance')[()]\n",
    "        f_file = hf.get('freqs')[()]\n",
    "        N_file = hf.get('N_L')[()]\n",
    "\n",
    "        # normalizing S\n",
    "        sigma2 = hf.get('sigma2')[()]\n",
    "        tau = hf.get('tau')[()]\n",
    "\n",
    "        chromosome = np.append(chromosome, chromosome_file, axis = 0)\n",
    "        snp = np.append(snp, snp_file, axis = 0)\n",
    "        bp = np.append(bp, bp_file, axis = 0)\n",
    "        theta = np.append(theta, theta_file, axis = 0)\n",
    "        se = np.append(se, se_file, axis = 0)\n",
    "        S = np.append(S, S_file, axis = 0)\n",
    "        f = np.append(f, f_file, axis = 0)\n",
    "        N = np.append(N, N_file, axis = 0)\n",
    "\n",
    "# Constructing dataframe of data\n",
    "zdata = pd.DataFrame({'CHR' : chromosome,\n",
    "                    'SNP' : snp,\n",
    "                    'BP' : bp,\n",
    "                    'N' : N,\n",
    "                    \"f\" : f,\n",
    "                    'theta' : theta.tolist(),\n",
    "                    'se' : se.tolist(),\n",
    "                    \"S\" : S.tolist()})\n",
    "\n",
    "\n",
    "zdata['CHR'] = zdata['CHR'].astype(int)\n",
    "zdata['SNP'] = zdata['SNP'].astype(str).str.replace(\"b'\", \"\").str[:-1]\n",
    "zdata['BP'] = zdata['BP'].astype(str).str.replace(\"b'\", \"\").str[:-1]\n",
    "zdata['BP'] = zdata['BP'].astype('int')"
   ]
  },
  {
   "cell_type": "code",
   "execution_count": 9,
   "metadata": {},
   "outputs": [
    {
     "data": {
      "text/plain": [
       "(582648, 8)"
      ]
     },
     "execution_count": 9,
     "metadata": {},
     "output_type": "execute_result"
    }
   ],
   "source": [
    "zdata[zdata['f'] >= 0.05].shape"
   ]
  },
  {
   "cell_type": "code",
   "execution_count": 10,
   "metadata": {},
   "outputs": [
    {
     "data": {
      "text/plain": [
       "(597358, 8)"
      ]
     },
     "execution_count": 10,
     "metadata": {},
     "output_type": "execute_result"
    }
   ],
   "source": [
    "zdata.shape"
   ]
  }
 ],
 "metadata": {
  "kernelspec": {
   "display_name": "Python 3",
   "language": "python",
   "name": "python3"
  },
  "language_info": {
   "codemirror_mode": {
    "name": "ipython",
    "version": 3
   },
   "file_extension": ".py",
   "mimetype": "text/x-python",
   "name": "python",
   "nbconvert_exporter": "python",
   "pygments_lexer": "ipython3",
   "version": "3.7.6"
  }
 },
 "nbformat": 4,
 "nbformat_minor": 4
}
