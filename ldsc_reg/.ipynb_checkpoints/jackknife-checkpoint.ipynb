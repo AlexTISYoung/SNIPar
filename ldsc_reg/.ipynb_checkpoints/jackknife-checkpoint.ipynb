{
 "cells": [
  {
   "cell_type": "code",
   "execution_count": 1,
   "metadata": {},
   "outputs": [
    {
     "data": {
      "text/plain": [
       "<module 'ldsc_71' from 'C:\\\\Users\\\\Hariharan\\\\Documents\\\\git_repos\\\\SNIPar\\\\ldsc_reg\\\\ldsc_71.py'>"
      ]
     },
     "execution_count": 1,
     "metadata": {},
     "output_type": "execute_result"
    }
   ],
   "source": [
    "import importlib\n",
    "import ldsc_71 as ld\n",
    "from helperfuncs import extract_upper_triangle, return_to_symmetric, extract_bounds\n",
    "import numpy as np\n",
    "from scipy.optimize import fmin_l_bfgs_b\n",
    "importlib.reload(ld)"
   ]
  },
  {
   "cell_type": "code",
   "execution_count": 2,
   "metadata": {},
   "outputs": [
    {
     "name": "stdout",
     "output_type": "stream",
     "text": [
      "Warning there is no value for theta. Maybe consider simulating it\n",
      "No initial guess provided.\n",
      "Making a matrix of 0s as the initial estimate\n",
      "=================================================\n",
      "Final Estimate:\n",
      " [[8.91734087 0.23379371]\n",
      " [0.23379371 8.03524308]]\n",
      "Convergence Flag:  b'CONVERGENCE: NORM_OF_PROJECTED_GRADIENT_<=_PGTOL'\n",
      "Number of Iterations:  12\n",
      "Final Gradient:  [-7.84196579e-08 -1.22227527e-07  2.47605877e-07]\n",
      "Max deviation of gradient from 0:  2.4760587718011817e-07\n"
     ]
    }
   ],
   "source": [
    "N = 100\n",
    "S = np.array([np.array([[5, 0], [0, 5]]),\n",
    "    np.array([[2, 0], [0, 2]])] * 50 )# 50 = N/2\n",
    "V = np.identity(2) * 10.0\n",
    "\n",
    "\n",
    "model = ld.sibreg_71(S = S)\n",
    "model.simdata(V, N)\n",
    "\n",
    "output_matrix, result = model.solve()"
   ]
  },
  {
   "cell_type": "code",
   "execution_count": 3,
   "metadata": {},
   "outputs": [],
   "source": [
    "def jackknife():\n",
    "    \n",
    "    # Simple jackknife estimator for SE\n",
    "    # Source: https://www.stat.berkeley.edu/~hhuang/STAT152/Jackknife-Bootstrap.pdf\n",
    "    \n",
    "    theta = model.theta\n",
    "    S = model.S\n",
    "    \n",
    "    nobs = theta.shape[0]\n",
    "    \n",
    "    estimates_jk = []\n",
    "    \n",
    "    for i in range(nobs):\n",
    "        \n",
    "        # remove ith observation\n",
    "        theta_jk = theta[np.arange(len(theta)) != i]\n",
    "        S_jk = S[np.arange(len(S)) != i]\n",
    "        \n",
    "        # Get our estimate\n",
    "        output_matrix, _ = model.solve(theta = theta_jk,\n",
    "                                      S = S_jk,\n",
    "                                      printout = False)\n",
    "        \n",
    "        estimates_jk.append(output_matrix)\n",
    "        \n",
    "    estimates_jk = np.array(estimates_jk)\n",
    "    \n",
    "    # calculate the SE\n",
    "    estimate_jk_mean = estimates_jk.mean(axis = 0)\n",
    "    estimate_jk_mean = np.array([estimate_jk_mean] * nobs) \n",
    "    estimates_jk_dev = estimates_jk - estimate_jk_mean\n",
    "    estimates_jk_devsq = estimates_jk_dev ** 2\n",
    "    estimates_jk_devsq_sum = estimates_jk_devsq.sum(axis = 0)\n",
    "\n",
    "    se = ((nobs - 1)/nobs) * estimates_jk_devsq_sum\n",
    "    se = np.sqrt(se)\n",
    "    \n",
    "    return se  "
   ]
  },
  {
   "cell_type": "code",
   "execution_count": 4,
   "metadata": {},
   "outputs": [
    {
     "data": {
      "text/plain": [
       "array([[1.66970423, 1.33436631],\n",
       "       [1.33436631, 1.4582945 ]])"
      ]
     },
     "execution_count": 4,
     "metadata": {},
     "output_type": "execute_result"
    }
   ],
   "source": [
    "jackknife()"
   ]
  }
 ],
 "metadata": {
  "kernelspec": {
   "display_name": "Python 3",
   "language": "python",
   "name": "python3"
  },
  "language_info": {
   "codemirror_mode": {
    "name": "ipython",
    "version": 3
   },
   "file_extension": ".py",
   "mimetype": "text/x-python",
   "name": "python",
   "nbconvert_exporter": "python",
   "pygments_lexer": "ipython3",
   "version": "3.7.4"
  }
 },
 "nbformat": 4,
 "nbformat_minor": 4
}
