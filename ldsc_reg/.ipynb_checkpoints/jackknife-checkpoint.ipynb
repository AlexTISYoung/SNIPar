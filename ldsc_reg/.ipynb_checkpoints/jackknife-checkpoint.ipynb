{
 "cells": [
  {
   "cell_type": "code",
   "execution_count": 2,
   "metadata": {},
   "outputs": [
    {
     "data": {
      "text/plain": [
       "<module 'ldsc_71' from 'C:\\\\Users\\\\Hariharan\\\\Documents\\\\git_repos\\\\SNIPar\\\\ldsc_reg\\\\ldsc_71.py'>"
      ]
     },
     "execution_count": 2,
     "metadata": {},
     "output_type": "execute_result"
    }
   ],
   "source": [
    "import importlib\n",
    "import ldsc_71 as ld\n",
    "from helperfuncs import extract_upper_triangle, return_to_symmetric, extract_bounds\n",
    "import numpy as np\n",
    "from scipy.optimize import fmin_l_bfgs_b\n",
    "importlib.reload(ld)"
   ]
  },
  {
   "cell_type": "code",
   "execution_count": 3,
   "metadata": {},
   "outputs": [
    {
     "name": "stdout",
     "output_type": "stream",
     "text": [
      "Warning there is no value for theta. Maybe consider simulating it\n",
      "No initial guess provided.\n",
      "Making a matrix of 0s as the initial estimate\n",
      "=================================================\n",
      "Final Estimate:\n",
      " [[ 9.50800236 -0.15483685]\n",
      " [-0.15483685 10.01909906]]\n",
      "Convergence Flag:  b'CONVERGENCE: NORM_OF_PROJECTED_GRADIENT_<=_PGTOL'\n",
      "Number of Iterations:  12\n",
      "Final Gradient:  [-1.55453091e-06 -2.43050386e-07 -5.36702414e-07]\n",
      "Max deviation of gradient from 0:  1.5545309138623176e-06\n"
     ]
    }
   ],
   "source": [
    "N = 100\n",
    "S = np.array([np.array([[5, 0], [0, 5]]),\n",
    "    np.array([[2, 0], [0, 2]])] * 50 )# 50 = N/2\n",
    "V = np.identity(2) * 10.0\n",
    "\n",
    "\n",
    "model = ld.sibreg_71(S = S)\n",
    "model.simdata(V, N)\n",
    "\n",
    "output_matrix, result = model.solve()"
   ]
  },
  {
   "cell_type": "code",
   "execution_count": 32,
   "metadata": {},
   "outputs": [],
   "source": [
    "def jackknife(block = 1):\n",
    "    \n",
    "    # Simple jackknife estimator for SE\n",
    "    # Source: https://www.stat.berkeley.edu/~hhuang/STAT152/Jackknife-Bootstrap.pdf\n",
    "    # Default value of block = 1 is the normal jackknife \n",
    "    \n",
    "    theta = model.theta\n",
    "    S = model.S\n",
    "    \n",
    "    assert theta.shape[0] == S.shape[0]\n",
    "    \n",
    "    nobs = theta.shape[0]\n",
    "    \n",
    "    estimates_jk = []\n",
    "    \n",
    "    start_idx = 0\n",
    "    while True:\n",
    "        \n",
    "        end_idx = start_idx + block\n",
    "        end_idx_cond = end_idx <= theta.shape[0]\n",
    "        \n",
    "        # remove ith observation\n",
    "        if end_idx_cond:\n",
    "            theta_jk = np.delete(theta, range(start_idx, end_idx), \n",
    "                                 axis = 0)\n",
    "            S_jk = np.delete(S, range(start_idx, end_idx), \n",
    "                             axis = 0)\n",
    "        else:\n",
    "            theta_jk = np.delete(theta, range(start_idx, theta.shape[0]), \n",
    "                                 axis = 0)\n",
    "            S_jk = np.delete(S, range(start_idx, S.shape[0]), \n",
    "                             axis = 0)\n",
    "        \n",
    "        if start_idx < theta.shape[0]:\n",
    "            # Get our estimate\n",
    "            output_matrix, _ = model.solve(theta = theta_jk,\n",
    "                                          S = S_jk,\n",
    "                                          printout = False)\n",
    "\n",
    "            estimates_jk.append(output_matrix)\n",
    "\n",
    "            start_idx +=  block\n",
    "            if not end_idx_cond:\n",
    "                break\n",
    "        \n",
    "    estimates_jk = np.array(estimates_jk)\n",
    "    \n",
    "    # calculate the SE\n",
    "    estimate_jk_mean = estimates_jk.mean(axis = 0)\n",
    "    estimate_jk_mean = np.array([estimate_jk_mean] * estimates_jk.shape[0])\n",
    "    estimates_jk_dev = estimates_jk - estimate_jk_mean\n",
    "    estimates_jk_devsq = estimates_jk_dev ** 2\n",
    "    estimates_jk_devsq_sum = estimates_jk_devsq.sum(axis = 0)\n",
    "\n",
    "    se = ((nobs - 1)/nobs) * estimates_jk_devsq_sum\n",
    "    se = np.sqrt(se)\n",
    "    \n",
    "    return se  "
   ]
  },
  {
   "cell_type": "code",
   "execution_count": 34,
   "metadata": {},
   "outputs": [
    {
     "data": {
      "text/plain": [
       "array([[1.84732429, 1.19164214],\n",
       "       [1.19164214, 1.66319927]])"
      ]
     },
     "execution_count": 34,
     "metadata": {},
     "output_type": "execute_result"
    }
   ],
   "source": [
    "jackknife(1)"
   ]
  }
 ],
 "metadata": {
  "kernelspec": {
   "display_name": "Python 3",
   "language": "python",
   "name": "python3"
  },
  "language_info": {
   "codemirror_mode": {
    "name": "ipython",
    "version": 3
   },
   "file_extension": ".py",
   "mimetype": "text/x-python",
   "name": "python",
   "nbconvert_exporter": "python",
   "pygments_lexer": "ipython3",
   "version": "3.7.4"
  }
 },
 "nbformat": 4,
 "nbformat_minor": 4
}
