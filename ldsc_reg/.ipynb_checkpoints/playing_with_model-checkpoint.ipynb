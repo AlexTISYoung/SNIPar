{
 "cells": [
  {
   "cell_type": "code",
   "execution_count": 17,
   "metadata": {},
   "outputs": [],
   "source": [
    "import importlib\n",
    "import ldsc_71 as ld1\n",
    "import ldsc_72 as ld2\n",
    "import numpy as np\n",
    "from numba import jit, njit, prange, vectorize\n",
    "from helperfuncs import *"
   ]
  },
  {
   "cell_type": "code",
   "execution_count": 14,
   "metadata": {},
   "outputs": [
    {
     "name": "stdout",
     "output_type": "stream",
     "text": [
      "Warning there is no value for theta. Maybe consider simulating it\n",
      "No value for U given. Generating a vector of ones (all SNPs weighted equally)\n",
      "No value for r given. Generating a vector of ones for r\n",
      "Effect Vectors Simulated!\n"
     ]
    }
   ],
   "source": [
    "# Reload module after any changes\n",
    "importlib.reload(ld1)\n",
    "\n",
    "N = 100\n",
    "S = np.array([np.array([[5, 0], [0, 5]]),\n",
    "    np.array([[2, 0], [0, 2]])] * 50 )# 50 = N/2\n",
    "V = np.identity(2) * 10.0\n",
    "\n",
    "\n",
    "model = ld2.sibreg_72(S = S)\n",
    "model.simdata(V, np.ones(N), N)"
   ]
  },
  {
   "cell_type": "code",
   "execution_count": 93,
   "metadata": {},
   "outputs": [],
   "source": [
    "def core_logll_loop(V, N, S, theta, u, r):\n",
    "    \n",
    "    Gvec = np.zeros_like(V)\n",
    "    log_ll = 0\n",
    "        \n",
    "    for i in prange(N):\n",
    "\n",
    "\n",
    "        Si = S[i]\n",
    "        thetai = theta[i, :]\n",
    "        ui = u[i]\n",
    "        ri = r[i]\n",
    "        \n",
    "\n",
    "        d, ddash = Si.shape\n",
    "        assert d == ddash # Each S has to be a square matrix\n",
    "\n",
    "        # calculate log likelihood\n",
    "        log_ll += -(d/2) * np.log(2 * np.pi)\n",
    "        dit_sv = np.linalg.det(Si + ri * V)\n",
    "        log_ll += -(1/2) * np.log(dit_sv)\n",
    "        log_ll += -(1/2) * np.trace(np.outer(thetai, thetai) @ np.linalg.inv(Si + ri * V))\n",
    "        log_ll *= 1/ui\n",
    "\n",
    "        # calculate gradient\n",
    "        SV_inv = np.linalg.inv(Si + ri * V)\n",
    "        G = -(1 / 2) * SV_inv\n",
    "        G += (1 / 2) * np.dot(SV_inv,np.dot(np.outer(thetai, thetai),SV_inv))\n",
    "        G *= 1/ui\n",
    "\n",
    "        Gvec += G\n",
    "        \n",
    "    return log_ll, Gvec"
   ]
  },
  {
   "cell_type": "code",
   "execution_count": 192,
   "metadata": {},
   "outputs": [],
   "source": [
    "@njit\n",
    "def numba_core_logll_loop(V, N, S, theta, u, r):\n",
    "    \n",
    "    Gvec = np.zeros_like(V)\n",
    "    log_ll = 0\n",
    "        \n",
    "    for i in prange(N):\n",
    "\n",
    "\n",
    "        Si = S[i]\n",
    "        thetai = theta[i, :]\n",
    "        ui = u[i]\n",
    "        ri = r[i]\n",
    "        \n",
    "\n",
    "        d, ddash = Si.shape\n",
    "        assert d == ddash # Each S has to be a square matrix\n",
    "\n",
    "        # calculate log likelihood\n",
    "        log_ll += -(d/2) * np.log(2 * np.pi)\n",
    "        dit_sv = np.linalg.det(Si + ri * V)\n",
    "        log_ll += -(1/2) * np.log(dit_sv)\n",
    "        log_ll += -(1/2) * np.trace(np.outer(thetai, thetai) @ np.linalg.inv(Si + ri * V))\n",
    "        log_ll *= 1/ui\n",
    "\n",
    "        # calculate gradient\n",
    "        SV_inv = np.linalg.inv(Si + ri * V)\n",
    "        G = -(1 / 2) * SV_inv\n",
    "        G += (1 / 2) * np.dot(SV_inv,np.dot(np.outer(thetai, thetai),SV_inv))\n",
    "        G *= 1/ui\n",
    "\n",
    "        Gvec += G\n",
    "        \n",
    "    return log_ll, Gvec"
   ]
  },
  {
   "cell_type": "code",
   "execution_count": 193,
   "metadata": {},
   "outputs": [],
   "source": [
    "def outer_neg_logll_grad(V, theta, S, u, r, loopfunc):\n",
    "        \n",
    "    # ============================================ #\n",
    "    # returns negative log likelihood and negative\n",
    "    # of the gradient\n",
    "    # ============================================ #\n",
    "    \n",
    "    # Unflatten V into a matrix\n",
    "    d = S[0].shape[0]\n",
    "    V = return_to_symmetric(V, d)\n",
    "    \n",
    "    N = len(S)\n",
    "\n",
    "    log_ll, Gvec = loopfunc(V, N, S, theta, u, r)\n",
    "\n",
    "\n",
    "    Gvec = extract_upper_triangle(Gvec)\n",
    "\n",
    "    return -log_ll, -Gvec"
   ]
  },
  {
   "cell_type": "code",
   "execution_count": 96,
   "metadata": {},
   "outputs": [],
   "source": [
    "Vin = extract_upper_triangle(V)"
   ]
  },
  {
   "cell_type": "code",
   "execution_count": 105,
   "metadata": {},
   "outputs": [
    {
     "name": "stdout",
     "output_type": "stream",
     "text": [
      "13.1 ms ± 188 µs per loop (mean ± std. dev. of 7 runs, 100 loops each)\n"
     ]
    }
   ],
   "source": [
    "%%timeit \n",
    "outer_neg_logll_grad(Vin, model.theta, model.S, model.u, model.r, \n",
    "                     loopfunc = core_logll_loop)"
   ]
  },
  {
   "cell_type": "code",
   "execution_count": 195,
   "metadata": {},
   "outputs": [
    {
     "name": "stdout",
     "output_type": "stream",
     "text": [
      "801 µs ± 35.4 µs per loop (mean ± std. dev. of 7 runs, 1000 loops each)\n"
     ]
    }
   ],
   "source": [
    "%%timeit \n",
    "outer_neg_logll_grad(Vin, model.theta, model.S, model.u, model.r,\n",
    "                     loopfunc = numba_core_logll_loop)"
   ]
  }
 ],
 "metadata": {
  "kernelspec": {
   "display_name": "Python 3",
   "language": "python",
   "name": "python3"
  },
  "language_info": {
   "codemirror_mode": {
    "name": "ipython",
    "version": 3
   },
   "file_extension": ".py",
   "mimetype": "text/x-python",
   "name": "python",
   "nbconvert_exporter": "python",
   "pygments_lexer": "ipython3",
   "version": "3.7.4"
  }
 },
 "nbformat": 4,
 "nbformat_minor": 4
}
