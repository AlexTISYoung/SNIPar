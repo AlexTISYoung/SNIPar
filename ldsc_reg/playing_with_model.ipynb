{
 "cells": [
  {
   "cell_type": "code",
   "execution_count": 1,
   "metadata": {},
   "outputs": [],
   "source": [
    "import importlib\n",
    "import ldsc_71 as ld1\n",
    "import ldsc_72 as ld2\n",
    "import numpy as np\n",
    "from numba import jit, njit, prange, vectorize\n",
    "from helperfuncs import *\n",
    "\n",
    "# reloading modules\n",
    "importlib.reload(ld1)\n",
    "importlib.reload(ld2)"
   ]
  },
  {
   "cell_type": "code",
   "execution_count": 3,
   "metadata": {
    "tags": []
   },
   "outputs": [
    {
     "output_type": "stream",
     "name": "stdout",
     "text": "Warning there is no value for theta. Maybe consider simulating it\nNo value for U given. Generating a vector of ones (all SNPs weighted equally)\nNo value for r given. Generating a vector of ones for r\nNo value given for allele frequencies.\nEffect Vectors Simulated!\n"
    }
   ],
   "source": [
    "# Reload module after any changes\n",
    "importlib.reload(ld1)\n",
    "\n",
    "N = 100\n",
    "S = np.array([np.array([[5, 0], [0, 5]]),\n",
    "    np.array([[2, 0], [0, 2]])] * 50 )# 50 = N/2\n",
    "V = np.identity(2) * 10.0\n",
    "\n",
    "\n",
    "model = ld2.sibreg(S = S)\n",
    "model.simdata(V, N)"
   ]
  },
  {
   "cell_type": "code",
   "execution_count": 4,
   "metadata": {
    "tags": []
   },
   "outputs": [
    {
     "output_type": "stream",
     "name": "stdout",
     "text": "No initial guess provided.\nMaking a matrix of 0s as the initial estimate\n=================================================\nLog Likelihood:  -693.7641795251411\nGradient:  [56.2500753   6.09194231 59.61647609]\nLog Likelihood:  -692.9407753548742\nGradient:  [55.85386401  6.0050998  59.17742185]\nLog Likelihood:  -689.7064522365798\nGradient:  [54.30919301  5.67104426 57.46799   ]\nLog Likelihood:  -677.6514366651893\nGradient:  [48.71511569  4.5226066  51.30790292]\nLog Likelihood:  -613.0944890593584\nGradient:  [22.70675156  2.248384   24.05498176]\nLog Likelihood:  -583.3593438093\nGradient:  [13.33825915  1.33928761 14.17192559]\nLog Likelihood:  -559.6869742174282\nGradient:  [6.92356408 0.74277389 7.40323997]\nLog Likelihood: -546.214302134833\nGradient:  [3.58082318 0.42166726 3.86355257]\nLog Likelihood:  -538.829965819482\nGradient:  [1.70159394 0.23385191 1.86523914]\nLog Likelihood:  -535.6527035673745\nGradient:  [0.7225373  0.12566235 0.81479296]\nLog Likelihood:  -534.6546221466832\nGradient:  [0.24572465 0.06045354 0.29227067]\nLog Likelihood:  -534.4737515054339\nGradient:  [0.05580649 0.02155184 0.07299048]\nLog Likelihood:  -534.4601749836683\nGradient:  [0.00640116 0.00376085 0.00941241]\nLog Likelihood:  -534.4599278284117\nGradient:  [0.00030185 0.00013852 0.00040336]\nLog Likelihood:  -534.459927371071\nGradient:  [-2.74189759e-06  4.03925817e-06  1.37318924e-06]\nFinal Estimate:\n [[836.03670005  55.87330833]\n [ 55.87330833 902.11137033]]\nConvergence Flag:  b'CONVERGENCE: NORM_OF_PROJECTED_GRADIENT_<=_PGTOL'\nNumber of Iterations:  12\nFinal Gradient:  [ 2.74189759e-06 -4.03925817e-06 -1.37318924e-06]\n"
    },
    {
     "output_type": "execute_result",
     "data": {
      "text/plain": "(array([[836.03670005,  55.87330833],\n        [ 55.87330833, 902.11137033]]),\n (array([836.03670005,  55.87330833, 902.11137033]),\n  534.459927371071,\n  {'grad': array([ 2.74189759e-06, -4.03925817e-06, -1.37318924e-06]),\n   'task': b'CONVERGENCE: NORM_OF_PROJECTED_GRADIENT_<=_PGTOL',\n   'funcalls': 15,\n   'nit': 12,\n   'warnflag': 0}))"
     },
     "metadata": {},
     "execution_count": 4
    }
   ],
   "source": [
    "model.solve()"
   ]
  },
  {
   "cell_type": "code",
   "execution_count": 93,
   "metadata": {},
   "outputs": [],
   "source": [
    "def core_logll_loop(V, N, S, theta, u, r):\n",
    "    \n",
    "    Gvec = np.zeros_like(V)\n",
    "    log_ll = 0\n",
    "        \n",
    "    for i in prange(N):\n",
    "\n",
    "\n",
    "        Si = S[i]\n",
    "        thetai = theta[i, :]\n",
    "        ui = u[i]\n",
    "        ri = r[i]\n",
    "        \n",
    "\n",
    "        d, ddash = Si.shape\n",
    "        assert d == ddash # Each S has to be a square matrix\n",
    "\n",
    "        # calculate log likelihood\n",
    "        log_ll += -(d/2) * np.log(2 * np.pi)\n",
    "        dit_sv = np.linalg.det(Si + ri * V)\n",
    "        log_ll += -(1/2) * np.log(dit_sv)\n",
    "        log_ll += -(1/2) * np.trace(np.outer(thetai, thetai) @ np.linalg.inv(Si + ri * V))\n",
    "        log_ll *= 1/ui\n",
    "\n",
    "        # calculate gradient\n",
    "        SV_inv = np.linalg.inv(Si + ri * V)\n",
    "        G = -(1 / 2) * SV_inv\n",
    "        G += (1 / 2) * np.dot(SV_inv,np.dot(np.outer(thetai, thetai),SV_inv))\n",
    "        G *= 1/ui\n",
    "\n",
    "        Gvec += G\n",
    "        \n",
    "    return log_ll, Gvec"
   ]
  },
  {
   "cell_type": "code",
   "execution_count": 192,
   "metadata": {},
   "outputs": [],
   "source": [
    "@njit\n",
    "def numba_core_logll_loop(V, N, S, theta, u, r):\n",
    "    \n",
    "    Gvec = np.zeros_like(V)\n",
    "    log_ll = 0\n",
    "        \n",
    "    for i in prange(N):\n",
    "\n",
    "\n",
    "        Si = S[i]\n",
    "        thetai = theta[i, :]\n",
    "        ui = u[i]\n",
    "        ri = r[i]\n",
    "        \n",
    "\n",
    "        d, ddash = Si.shape\n",
    "        assert d == ddash # Each S has to be a square matrix\n",
    "\n",
    "        # calculate log likelihood\n",
    "        log_ll += -(d/2) * np.log(2 * np.pi)\n",
    "        dit_sv = np.linalg.det(Si + ri * V)\n",
    "        log_ll += -(1/2) * np.log(dit_sv)\n",
    "        log_ll += -(1/2) * np.trace(np.outer(thetai, thetai) @ np.linalg.inv(Si + ri * V))\n",
    "        log_ll *= 1/ui\n",
    "\n",
    "        # calculate gradient\n",
    "        SV_inv = np.linalg.inv(Si + ri * V)\n",
    "        G = -(1 / 2) * SV_inv\n",
    "        G += (1 / 2) * np.dot(SV_inv,np.dot(np.outer(thetai, thetai),SV_inv))\n",
    "        G *= 1/ui\n",
    "\n",
    "        Gvec += G\n",
    "        \n",
    "    return log_ll, Gvec"
   ]
  },
  {
   "cell_type": "code",
   "execution_count": 193,
   "metadata": {},
   "outputs": [],
   "source": [
    "def outer_neg_logll_grad(V, theta, S, u, r, loopfunc):\n",
    "        \n",
    "    # ============================================ #\n",
    "    # returns negative log likelihood and negative\n",
    "    # of the gradient\n",
    "    # ============================================ #\n",
    "    \n",
    "    # Unflatten V into a matrix\n",
    "    d = S[0].shape[0]\n",
    "    V = return_to_symmetric(V, d)\n",
    "    \n",
    "    N = len(S)\n",
    "\n",
    "    log_ll, Gvec = loopfunc(V, N, S, theta, u, r)\n",
    "\n",
    "\n",
    "    Gvec = extract_upper_triangle(Gvec)\n",
    "\n",
    "    return -log_ll, -Gvec"
   ]
  },
  {
   "cell_type": "code",
   "execution_count": 96,
   "metadata": {},
   "outputs": [],
   "source": [
    "Vin = extract_upper_triangle(V)"
   ]
  },
  {
   "cell_type": "code",
   "execution_count": 105,
   "metadata": {},
   "outputs": [
    {
     "name": "stdout",
     "output_type": "stream",
     "text": [
      "13.1 ms ± 188 µs per loop (mean ± std. dev. of 7 runs, 100 loops each)\n"
     ]
    }
   ],
   "source": [
    "%%timeit \n",
    "outer_neg_logll_grad(Vin, model.theta, model.S, model.u, model.r, \n",
    "                     loopfunc = core_logll_loop)"
   ]
  },
  {
   "cell_type": "code",
   "execution_count": 195,
   "metadata": {},
   "outputs": [
    {
     "name": "stdout",
     "output_type": "stream",
     "text": [
      "801 µs ± 35.4 µs per loop (mean ± std. dev. of 7 runs, 1000 loops each)\n"
     ]
    }
   ],
   "source": [
    "%%timeit \n",
    "outer_neg_logll_grad(Vin, model.theta, model.S, model.u, model.r,\n",
    "                     loopfunc = numba_core_logll_loop)"
   ]
  }
 ],
 "metadata": {
  "kernelspec": {
   "display_name": "Python 3",
   "language": "python",
   "name": "python3"
  },
  "language_info": {
   "codemirror_mode": {
    "name": "ipython",
    "version": 3
   },
   "file_extension": ".py",
   "mimetype": "text/x-python",
   "name": "python",
   "nbconvert_exporter": "python",
   "pygments_lexer": "ipython3",
   "version": "3.7.4-final"
  }
 },
 "nbformat": 4,
 "nbformat_minor": 4
}