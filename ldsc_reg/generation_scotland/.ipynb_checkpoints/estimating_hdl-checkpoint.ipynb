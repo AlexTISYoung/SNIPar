{
 "cells": [
  {
   "cell_type": "code",
   "execution_count": 1,
   "metadata": {},
   "outputs": [],
   "source": [
    "import numpy as np\n",
    "import h5py\n",
    "import glob\n",
    "import datetime\n",
    "import matplotlib.pyplot as plt\n",
    "import pandas as pd\n",
    "import logging\n",
    "\n",
    "\n",
    "import sys\n",
    "import os\n",
    "sys.path.append(os.getcwd() + '/..')\n",
    "import sib_ldsc_z as ld"
   ]
  },
  {
   "cell_type": "code",
   "execution_count": 2,
   "metadata": {},
   "outputs": [
    {
     "name": "stdout",
     "output_type": "stream",
     "text": [
      "=====================================\n",
      "Reading in Data\n",
      "=====================================\n",
      "Reading in file:  /disk/genetics/ukb/alextisyoung/GS20k_sumstats/traits/3/chr_13.hdf5\n",
      "Reading in file:  /disk/genetics/ukb/alextisyoung/GS20k_sumstats/traits/3/chr_22.hdf5\n",
      "Reading in file:  /disk/genetics/ukb/alextisyoung/GS20k_sumstats/traits/3/chr_4.hdf5\n",
      "Reading in file:  /disk/genetics/ukb/alextisyoung/GS20k_sumstats/traits/3/chr_17.hdf5\n",
      "Reading in file:  /disk/genetics/ukb/alextisyoung/GS20k_sumstats/traits/3/chr_8.hdf5\n",
      "Reading in file:  /disk/genetics/ukb/alextisyoung/GS20k_sumstats/traits/3/chr_9.hdf5\n",
      "Reading in file:  /disk/genetics/ukb/alextisyoung/GS20k_sumstats/traits/3/chr_12.hdf5\n",
      "Reading in file:  /disk/genetics/ukb/alextisyoung/GS20k_sumstats/traits/3/chr_1.hdf5\n",
      "Reading in file:  /disk/genetics/ukb/alextisyoung/GS20k_sumstats/traits/3/chr_5.hdf5\n",
      "Reading in file:  /disk/genetics/ukb/alextisyoung/GS20k_sumstats/traits/3/chr_16.hdf5\n",
      "Reading in file:  /disk/genetics/ukb/alextisyoung/GS20k_sumstats/traits/3/chr_18.hdf5\n",
      "Reading in file:  /disk/genetics/ukb/alextisyoung/GS20k_sumstats/traits/3/chr_10.hdf5\n",
      "Reading in file:  /disk/genetics/ukb/alextisyoung/GS20k_sumstats/traits/3/chr_21.hdf5\n",
      "Reading in file:  /disk/genetics/ukb/alextisyoung/GS20k_sumstats/traits/3/chr_3.hdf5\n",
      "Reading in file:  /disk/genetics/ukb/alextisyoung/GS20k_sumstats/traits/3/chr_7.hdf5\n",
      "Reading in file:  /disk/genetics/ukb/alextisyoung/GS20k_sumstats/traits/3/chr_14.hdf5\n",
      "Reading in file:  /disk/genetics/ukb/alextisyoung/GS20k_sumstats/traits/3/chr_11.hdf5\n",
      "Reading in file:  /disk/genetics/ukb/alextisyoung/GS20k_sumstats/traits/3/chr_20.hdf5\n",
      "Reading in file:  /disk/genetics/ukb/alextisyoung/GS20k_sumstats/traits/3/chr_2.hdf5\n",
      "Reading in file:  /disk/genetics/ukb/alextisyoung/GS20k_sumstats/traits/3/chr_6.hdf5\n",
      "Reading in file:  /disk/genetics/ukb/alextisyoung/GS20k_sumstats/traits/3/chr_15.hdf5\n",
      "Reading in file:  /disk/genetics/ukb/alextisyoung/GS20k_sumstats/traits/3/chr_19.hdf5\n"
     ]
    }
   ],
   "source": [
    "startTime = datetime.datetime.now()  \n",
    "logging.info(f\"Start time:  {startTime}\")\n",
    "\n",
    "# == Reading in Data == #\n",
    "print(\"=====================================\")\n",
    "print(\"Reading in Data\")\n",
    "print(\"=====================================\")\n",
    "# reading in  data\n",
    "files = glob.glob(\"/disk/genetics/ukb/alextisyoung/GS20k_sumstats/traits/3/chr_*.hdf5\")\n",
    "\n",
    "file = files[0]\n",
    "print(\"Reading in file: \", file)\n",
    "hf = h5py.File(file, 'r')\n",
    "metadata = hf.get(\"bim\")[()]\n",
    "chromosome = metadata[:, 0]\n",
    "snp = metadata[:, 1]\n",
    "theta  = hf.get('estimate')[()]\n",
    "se  = hf.get('estimate_ses')[()]\n",
    "N = hf.get('N_L')[()]\n",
    "S = hf.get('estimate_covariance')[()]\n",
    "f = hf.get('freqs')[()]\n",
    "\n",
    "# normalizing S\n",
    "sigma2 = hf.get('sigma2')[()]\n",
    "tau = hf.get('tau')[()]\n",
    "phvar = sigma2+sigma2/tau\n",
    "\n",
    "\n",
    "for file in files[1:]:\n",
    "    print(\"Reading in file: \", file)\n",
    "    hf = h5py.File(file, 'r')\n",
    "    metadata = hf.get(\"bim\")[()]\n",
    "    chromosome_file = metadata[:, 0]  \n",
    "    snp_file = metadata[:, 1]\n",
    "    theta_file  = hf.get('estimate')[()]\n",
    "    se_file  = hf.get('estimate_ses')[()]\n",
    "    S_file = hf.get('estimate_covariance')[()]\n",
    "    f_file = hf.get('freqs')[()]\n",
    "    N_file = hf.get('N_L')[()]\n",
    "\n",
    "    # normalizing S\n",
    "    sigma2 = hf.get('sigma2')[()]\n",
    "    tau = hf.get('tau')[()]\n",
    "\n",
    "    chromosome = np.append(chromosome, chromosome_file, axis = 0)\n",
    "    snp = np.append(snp, snp_file, axis = 0)\n",
    "    theta = np.append(theta, theta_file, axis = 0)\n",
    "    se = np.append(se, se_file, axis = 0)\n",
    "    S = np.append(S, S_file, axis = 0)\n",
    "    f = np.append(f, f_file, axis = 0)\n",
    "    N = np.append(N, N_file, axis = 0)\n",
    "\n",
    "# Constructing dataframe of data\n",
    "zdata = pd.DataFrame({'CHR' : chromosome,\n",
    "                    'SNP' : snp,\n",
    "                    'N' : N,\n",
    "                    \"f\" : f,\n",
    "                    'theta' : theta.tolist(),\n",
    "                    'se' : se.tolist(),\n",
    "                    \"S\" : S.tolist()})\n",
    "\n",
    "\n",
    "zdata['CHR'] = zdata['CHR'].astype(int)\n",
    "zdata['SNP'] = zdata['SNP'].astype(str).str.replace(\"b'\", \"\").str[-9:-1]"
   ]
  },
  {
   "cell_type": "code",
   "execution_count": 11,
   "metadata": {},
   "outputs": [
    {
     "ename": "ValueError",
     "evalue": "invalid literal for int() with base 10: '/1'",
     "output_type": "error",
     "traceback": [
      "\u001b[0;31m-------------------------------------------------------------------------\u001b[0m",
      "\u001b[0;31mValueError\u001b[0m                              Traceback (most recent call last)",
      "\u001b[0;32m<ipython-input-11-d96338e612f3>\u001b[0m in \u001b[0;36m<module>\u001b[0;34m\u001b[0m\n\u001b[1;32m      7\u001b[0m \u001b[0mMcolnames\u001b[0m \u001b[0;34m=\u001b[0m \u001b[0;34m[\u001b[0m\u001b[0;34m\"M\"\u001b[0m\u001b[0;34m,\u001b[0m \u001b[0;34m\"CHR\"\u001b[0m\u001b[0;34m]\u001b[0m\u001b[0;34m\u001b[0m\u001b[0;34m\u001b[0m\u001b[0m\n\u001b[1;32m      8\u001b[0m \u001b[0;34m\u001b[0m\u001b[0m\n\u001b[0;32m----> 9\u001b[0;31m \u001b[0mldscores\u001b[0m\u001b[0;34m,\u001b[0m \u001b[0mmfile\u001b[0m \u001b[0;34m=\u001b[0m \u001b[0mld\u001b[0m\u001b[0;34m.\u001b[0m\u001b[0mread_ldscores\u001b[0m\u001b[0;34m(\u001b[0m\u001b[0mldscore_path\u001b[0m\u001b[0;34m,\u001b[0m \u001b[0mldfiles\u001b[0m\u001b[0;34m,\u001b[0m \u001b[0mldcolnames\u001b[0m\u001b[0;34m,\u001b[0m \u001b[0mMfiles\u001b[0m\u001b[0;34m,\u001b[0m \u001b[0mMcolnames\u001b[0m\u001b[0;34m)\u001b[0m\u001b[0;34m\u001b[0m\u001b[0;34m\u001b[0m\u001b[0m\n\u001b[0m\u001b[1;32m     10\u001b[0m \u001b[0;34m\u001b[0m\u001b[0m\n\u001b[1;32m     11\u001b[0m \u001b[0;31m# Merging LD scores with main Data Frame\u001b[0m\u001b[0;34m\u001b[0m\u001b[0;34m\u001b[0m\u001b[0;34m\u001b[0m\u001b[0m\n",
      "\u001b[0;32m/disk/homedirs/nber/harij/gitrepos/SNIPar/ldsc_reg/generation_scotland/../sib_ldsc_z.py\u001b[0m in \u001b[0;36mread_ldscores\u001b[0;34m(ldscore_path, ldfiles, ldcolnames, Mfiles, Mcolnames)\u001b[0m\n\u001b[1;32m    747\u001b[0m             \u001b[0mchrom\u001b[0m \u001b[0;34m=\u001b[0m \u001b[0mint\u001b[0m\u001b[0;34m(\u001b[0m\u001b[0mfile\u001b[0m\u001b[0;34m[\u001b[0m\u001b[0;34m-\u001b[0m\u001b[0;36m11\u001b[0m\u001b[0;34m]\u001b[0m\u001b[0;34m)\u001b[0m\u001b[0;34m\u001b[0m\u001b[0;34m\u001b[0m\u001b[0m\n\u001b[1;32m    748\u001b[0m         \u001b[0;32melse\u001b[0m\u001b[0;34m:\u001b[0m\u001b[0;34m\u001b[0m\u001b[0;34m\u001b[0m\u001b[0m\n\u001b[0;32m--> 749\u001b[0;31m             \u001b[0mchrom\u001b[0m \u001b[0;34m=\u001b[0m \u001b[0mint\u001b[0m\u001b[0;34m(\u001b[0m\u001b[0mfile\u001b[0m\u001b[0;34m[\u001b[0m\u001b[0;34m-\u001b[0m\u001b[0;36m12\u001b[0m\u001b[0;34m:\u001b[0m\u001b[0;34m-\u001b[0m\u001b[0;36m10\u001b[0m\u001b[0;34m]\u001b[0m\u001b[0;34m)\u001b[0m\u001b[0;34m\u001b[0m\u001b[0;34m\u001b[0m\u001b[0m\n\u001b[0m\u001b[1;32m    750\u001b[0m \u001b[0;34m\u001b[0m\u001b[0m\n\u001b[1;32m    751\u001b[0m         nloci_i = pd.DataFrame({\"M\" : [M(file[:-10])[0, 0]],\n",
      "\u001b[0;31mValueError\u001b[0m: invalid literal for int() with base 10: '/1'"
     ]
    }
   ],
   "source": [
    "# == Reading in LD Scores == #\n",
    "\n",
    "ldscore_path = \"/disk/genetics/ukb/alextisyoung/GS20k_sumstats/ldscores/\"\n",
    "ldfiles = \"*[0-9].l2.ldscore.gz\"\n",
    "ldcolnames = [\"CHR\", \"SNP\", \"BP\", \"L2\"]\n",
    "Mfiles = \"*[0-9].l2.M_5_50\"\n",
    "Mcolnames = [\"M\", \"CHR\"]\n",
    "\n",
    "ldscores, mfile = ld.read_ldscores(ldscore_path, ldfiles, ldcolnames, Mfiles, Mcolnames)\n",
    "\n",
    "# Merging LD scores with main Data Frame\n",
    "main_df = zdata.merge(ldscores, how = \"inner\", on = [\"CHR\", \"SNP\"])\n"
   ]
  }
 ],
 "metadata": {
  "kernelspec": {
   "display_name": "Python 3",
   "language": "python",
   "name": "python3"
  },
  "language_info": {
   "codemirror_mode": {
    "name": "ipython",
    "version": 3
   },
   "file_extension": ".py",
   "mimetype": "text/x-python",
   "name": "python",
   "nbconvert_exporter": "python",
   "pygments_lexer": "ipython3",
   "version": "3.7.6"
  }
 },
 "nbformat": 4,
 "nbformat_minor": 4
}
