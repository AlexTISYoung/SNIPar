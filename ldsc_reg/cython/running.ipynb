{
 "cells": [
  {
   "cell_type": "code",
   "execution_count": 1,
   "metadata": {},
   "outputs": [],
   "source": [
    "import sib_ldsc_cython as ld\n",
    "import sys\n",
    "sys.path.append(\"..\")\n",
    "import sib_ldsc_z as ldbase"
   ]
  },
  {
   "cell_type": "code",
   "execution_count": 2,
   "metadata": {},
   "outputs": [],
   "source": [
    "import numpy as np\n",
    "import glob\n",
    "import pandas as pd\n",
    "from scipy.optimize import minimize\n",
    "import scipy.optimize\n",
    "from scipy.special import comb\n",
    "from scipy.misc import derivative\n",
    "import scipy.stats"
   ]
  },
  {
   "cell_type": "code",
   "execution_count": 3,
   "metadata": {},
   "outputs": [
    {
     "data": {
      "text/plain": [
       "<module 'sib_ldsc_cython' from '/disk/homedirs/nber/harij/gitrepos/SNIPar/ldsc_reg/cython/sib_ldsc_cython.cpython-37m-x86_64-linux-gnu.so'>"
      ]
     },
     "execution_count": 3,
     "metadata": {},
     "output_type": "execute_result"
    }
   ],
   "source": [
    "from importlib import reload\n",
    "reload(ld)"
   ]
  },
  {
   "cell_type": "code",
   "execution_count": 4,
   "metadata": {},
   "outputs": [],
   "source": [
    "V = np.array([[0.5, 0.25], [0.25, 0.5]])\n",
    "S = np.array([[0.4, 0.2], [0.2, 0.4]])"
   ]
  },
  {
   "cell_type": "code",
   "execution_count": 5,
   "metadata": {},
   "outputs": [],
   "source": [
    "%load_ext Cython"
   ]
  },
  {
   "cell_type": "code",
   "execution_count": 41,
   "metadata": {},
   "outputs": [],
   "source": [
    "%%cython\n",
    "\n",
    "import numpy as np\n",
    "cimport numpy as np\n",
    "import sib_ldsc_cython as ld \n",
    "\n",
    "DTYPE = np.float\n",
    "ctypedef np.float_t DTYPE_t\n",
    "\n",
    "cpdef DTYPE_t log_ll(np.ndarray[DTYPE_t, ndim=1] V, \n",
    "                     np.ndarray[DTYPE_t, ndim=1] z, \n",
    "                     np.ndarray[DTYPE_t, ndim=2] S, \n",
    "                     double l, \n",
    "                     int N):\n",
    "\n",
    "    \"\"\"\n",
    "    Returns the log likelihood matrix for a given SNP i as formulated by:\n",
    "\n",
    "    .. math::\n",
    "        l_i = -\\frac{d}{2} log (2 \\pi) - \\frac{1}{2} log ( |\\Sigma| ) -\n",
    "                \\frac{1}{2} z_i^T (\\Sigma) ^{-1} z_i\n",
    "\n",
    "    Inputs:\n",
    "    V = dxd numpy matrix\n",
    "    z = dx1 numpy matrix\n",
    "    S = dxd numpy matrix\n",
    "    l = scalar\n",
    "    f = scalar\n",
    "\n",
    "    Outputs:\n",
    "    logll = scalar\n",
    "    \"\"\"\n",
    "    cdef np.ndarray[DTYPE_t, ndim=2] Vmat = ld.V2Vmat(V, N)\n",
    "\n",
    "    Vnew, Snew = ld.standardize_mat(Vmat, S, N)\n",
    "    Sigma = Snew + l * Vnew\n",
    "    logdet = np.linalg.slogdet(Sigma)\n",
    "\n",
    "    det = np.linalg.det(Sigma)\n",
    "    if det > 1e-6 or det < -1e-6:\n",
    "        Sigma_inv = np.linalg.inv(Sigma)\n",
    "    else:\n",
    "        Sigma_inv = np.linalg.pinv(Sigma)\n",
    "\n",
    "    d = Vmat.shape[0]\n",
    "    z2d = z.reshape(d,1)\n",
    "\n",
    "    L = - (d/2.0) * np.log(2 * np.pi) \\\n",
    "        - (1.0/2.0) * logdet[0]*logdet[1] \\\n",
    "        - (1.0/2.0) * z2d.T @ Sigma_inv @ z2d\n",
    "\n",
    "    logll = L[0, 0]\n",
    "\n",
    "    return logll\n"
   ]
  },
  {
   "cell_type": "code",
   "execution_count": 42,
   "metadata": {},
   "outputs": [
    {
     "name": "stdout",
     "output_type": "stream",
     "text": [
      "CPU times: user 1e+03 µs, sys: 0 ns, total: 1e+03 µs\n",
      "Wall time: 1.15 ms\n"
     ]
    },
    {
     "data": {
      "text/plain": [
       "-1.7007026968501218"
      ]
     },
     "execution_count": 42,
     "metadata": {},
     "output_type": "execute_result"
    }
   ],
   "source": [
    "%time log_ll(ldbase.Vmat2V(V, 100), np.array([0.1, 0.1]), S, 0.5, 100)"
   ]
  },
  {
   "cell_type": "code",
   "execution_count": 24,
   "metadata": {},
   "outputs": [
    {
     "name": "stdout",
     "output_type": "stream",
     "text": [
      "CPU times: user 3.79 s, sys: 101 ms, total: 3.89 s\n",
      "Wall time: 3.89 s\n"
     ]
    },
    {
     "data": {
      "text/plain": [
       "-2.18364641006772"
      ]
     },
     "execution_count": 24,
     "metadata": {},
     "output_type": "execute_result"
    }
   ],
   "source": [
    "%time ldbase._log_ll(ldbase.Vmat2V(V, 100), np.array([0.1, 0.1]), S, 0.5, 100)"
   ]
  },
  {
   "cell_type": "code",
   "execution_count": 7,
   "metadata": {},
   "outputs": [
    {
     "data": {
      "text/plain": [
       "-1.700702696850121"
      ]
     },
     "execution_count": 7,
     "metadata": {},
     "output_type": "execute_result"
    }
   ],
   "source": [
    "ld._log_ll(np.array([0.5, 0.5, 0.5]), np.array([0.1, 0.1]), V, 0.5, 100)"
   ]
  },
  {
   "cell_type": "code",
   "execution_count": 8,
   "metadata": {},
   "outputs": [
    {
     "data": {
      "text/plain": [
       "-1.705657070865306"
      ]
     },
     "execution_count": 8,
     "metadata": {},
     "output_type": "execute_result"
    }
   ],
   "source": [
    "ldbase._log_ll(np.array([0.5, 0.5, 0.5]), np.array([0.1, 0.1]), V, 0.5, 100)"
   ]
  },
  {
   "cell_type": "code",
   "execution_count": 9,
   "metadata": {},
   "outputs": [
    {
     "data": {
      "text/plain": [
       "array([ 0.,  0., -0.])"
      ]
     },
     "execution_count": 9,
     "metadata": {},
     "output_type": "execute_result"
    }
   ],
   "source": [
    "ld._grad_ll_v(np.array([0.5, 0.5, 0.5]), np.array([0.1, 0.1]), V, 0.5, 100)"
   ]
  },
  {
   "cell_type": "code",
   "execution_count": 12,
   "metadata": {},
   "outputs": [
    {
     "name": "stdout",
     "output_type": "stream",
     "text": [
      "Warning there is no value for z. Maybe consider simulating it\n",
      "No value for U given. Generating a vector of ones (all SNPs weighted equally)\n",
      "No value for LD Scores given. Generating a vector of ones for l\n",
      "Warning: No value given for allele frequencies. Some parameters won't be normalized.\n",
      "No value for effective number of loci is given. Using total number of loci instead\n",
      "Simulated LD scores!\n"
     ]
    }
   ],
   "source": [
    "# Simulating data\n",
    "np.random.seed(123)\n",
    "\n",
    "N = int(1e4)\n",
    "S = np.array([[[1e-4, -5 * 1e-5], [-5 * 1e-5, 1e-4]]] * N)\n",
    "V = np.array([[0.5, 0.25], [0.25, 0.5]])\n",
    "\n",
    "model = ldbase.sibreg(S = S)\n",
    "model.simdata(V/N, N, simld = True)"
   ]
  },
  {
   "cell_type": "code",
   "execution_count": 13,
   "metadata": {},
   "outputs": [],
   "source": [
    "result = minimize(\n",
    "    ld.neg_logll_grad, \n",
    "    np.array([0.3, 0.3, 0.3]),\n",
    "    jac = True,\n",
    "    args = (model.z, model.S, model.l, model.u, model.M),\n",
    "    bounds = [(1e-6, None), (1e-6, None), (-1, 1)],\n",
    "    method = 'L-BFGS-B'\n",
    "    # options = {'ftol' : 1e-20}\n",
    "\n",
    ")"
   ]
  },
  {
   "cell_type": "code",
   "execution_count": 14,
   "metadata": {},
   "outputs": [
    {
     "data": {
      "text/plain": [
       "      fun: 18378.77066409414\n",
       " hess_inv: <3x3 LbfgsInvHessProduct with dtype=float64>\n",
       "      jac: array([-0., -0., -0.])\n",
       "  message: b'CONVERGENCE: NORM_OF_PROJECTED_GRADIENT_<=_PGTOL'\n",
       "     nfev: 1\n",
       "      nit: 0\n",
       "   status: 0\n",
       "  success: True\n",
       "        x: array([0.3, 0.3, 0.3])"
      ]
     },
     "execution_count": 14,
     "metadata": {},
     "output_type": "execute_result"
    }
   ],
   "source": [
    "result"
   ]
  },
  {
   "cell_type": "code",
   "execution_count": 13,
   "metadata": {},
   "outputs": [
    {
     "name": "stderr",
     "output_type": "stream",
     "text": [
      "../sib_ldsc_z.py:337: NumbaPerformanceWarning: \u001b[1m\u001b[1m\u001b[1m'@' is faster on contiguous arrays, called on (array(float64, 2d, F), array(float64, 2d, A))\u001b[0m\u001b[0m\u001b[0m\n",
      "  log_ll += (1/ui) * _log_ll(V, zi, Si, li, M)\n",
      "../sib_ldsc_z.py:337: NumbaPerformanceWarning: \u001b[1m\u001b[1m'@' is faster on contiguous arrays, called on (array(float64, 2d, F), array(float64, 2d, A))\u001b[0m\u001b[0m\n",
      "  log_ll += (1/ui) * _log_ll(V, zi, Si, li, M)\n"
     ]
    }
   ],
   "source": [
    "resultbase = minimize(\n",
    "    ldbase.neg_logll_grad, \n",
    "    np.array([0.5, 0.5, 0.5]),\n",
    "    jac = True,\n",
    "    args = (model.z, model.S, model.l, model.u, model.M),\n",
    "    bounds = [(1e-6, None), (1e-6, None), (-1, 1)],\n",
    "    method = 'L-BFGS-B'\n",
    "    # options = {'ftol' : 1e-20}\n",
    "\n",
    ")"
   ]
  },
  {
   "cell_type": "code",
   "execution_count": 14,
   "metadata": {},
   "outputs": [
    {
     "data": {
      "text/plain": [
       "      fun: 37189.05234751699\n",
       " hess_inv: <3x3 LbfgsInvHessProduct with dtype=float64>\n",
       "      jac: array([ 0.00287811,  0.00023375, -0.00084613])\n",
       "  message: b'CONVERGENCE: REL_REDUCTION_OF_F_<=_FACTR*EPSMCH'\n",
       "     nfev: 8\n",
       "      nit: 6\n",
       "   status: 0\n",
       "  success: True\n",
       "        x: array([0.5180204 , 0.49265064, 0.53215352])"
      ]
     },
     "execution_count": 14,
     "metadata": {},
     "output_type": "execute_result"
    }
   ],
   "source": [
    "resultbase"
   ]
  }
 ],
 "metadata": {
  "kernelspec": {
   "display_name": "Python 3",
   "language": "python",
   "name": "python3"
  },
  "language_info": {
   "codemirror_mode": {
    "name": "ipython",
    "version": 3
   },
   "file_extension": ".py",
   "mimetype": "text/x-python",
   "name": "python",
   "nbconvert_exporter": "python",
   "pygments_lexer": "ipython3",
   "version": "3.7.6"
  }
 },
 "nbformat": 4,
 "nbformat_minor": 4
}
