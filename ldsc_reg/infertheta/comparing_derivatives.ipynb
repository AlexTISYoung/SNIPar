{
 "cells": [
  {
   "cell_type": "code",
   "execution_count": 8,
   "metadata": {},
   "outputs": [
    {
     "data": {
      "text/plain": [
       "<module 'ldsc_72' from 'C:\\\\Users\\\\Hariharan\\\\Documents\\\\git_repos\\\\SNIPar\\\\ldsc_reg\\\\infertheta\\\\ldsc_72.py'>"
      ]
     },
     "execution_count": 8,
     "metadata": {},
     "output_type": "execute_result"
    }
   ],
   "source": [
    "from importlib import reload\n",
    "import numpy as np\n",
    "import helperfuncs as hp\n",
    "import ldsc_72 as ld\n",
    "import matplotlib.pyplot as plt\n",
    "import scipy.stats\n",
    "reload(ld)"
   ]
  },
  {
   "cell_type": "code",
   "execution_count": 9,
   "metadata": {},
   "outputs": [
    {
     "name": "stdout",
     "output_type": "stream",
     "text": [
      "Warning there is no value for theta. Maybe consider simulating it\n",
      "No value for U given. Generating a vector of ones (all SNPs weighted equally)\n",
      "No value for r given. Generating a vector of ones for r\n",
      "Warning: No value given for allele frequencies. Some parameters won't be noramlized.\n",
      "Simulated LD scores!\n",
      "Effect Vectors Simulated!\n"
     ]
    }
   ],
   "source": [
    "# Getting model set up\n",
    "\n",
    "np.random.seed(123)\n",
    "N = 100\n",
    "S_size=  int(N/2)\n",
    "S = np.array([100/N] * N).reshape((N, 1, 1))\n",
    "V = np.identity(1) * 100\n",
    "\n",
    "model = ld.sibreg(S = S)\n",
    "model.simdata(V, N, simr = True)"
   ]
  },
  {
   "cell_type": "code",
   "execution_count": 10,
   "metadata": {},
   "outputs": [],
   "source": [
    "negll, neggrad = model.neg_logll_grad(V)"
   ]
  },
  {
   "cell_type": "code",
   "execution_count": 11,
   "metadata": {},
   "outputs": [
    {
     "data": {
      "text/plain": [
       "array([-34.79564052])"
      ]
     },
     "execution_count": 11,
     "metadata": {},
     "output_type": "execute_result"
    }
   ],
   "source": [
    "neggrad"
   ]
  },
  {
   "cell_type": "code",
   "execution_count": 12,
   "metadata": {},
   "outputs": [
    {
     "data": {
      "text/plain": [
       "(array([[468.95261992]]),       fun: 274.6392748836826\n",
       "  hess_inv: <1x1 LbfgsInvHessProduct with dtype=float64>\n",
       "       jac: array([-0.01183156])\n",
       "   message: b'CONVERGENCE: REL_REDUCTION_OF_F_<=_FACTR*EPSMCH'\n",
       "      nfev: 54\n",
       "       nit: 15\n",
       "    status: 0\n",
       "   success: True\n",
       "         x: array([468.95261992]))"
      ]
     },
     "execution_count": 12,
     "metadata": {},
     "output_type": "execute_result"
    }
   ],
   "source": [
    "model.solve(est_init = np.atleast_2d(0))"
   ]
  },
  {
   "cell_type": "code",
   "execution_count": 20,
   "metadata": {},
   "outputs": [
    {
     "data": {
      "text/plain": [
       "9.877539355329645e-13"
      ]
     },
     "execution_count": 20,
     "metadata": {},
     "output_type": "execute_result"
    }
   ],
   "source": [
    "def logll(V):\n",
    "\n",
    "    Vin = hp.extract_upper_triangle(V)\n",
    "    logll = -model.neg_logll_grad(Vin)[0]\n",
    "    \n",
    "    return logll\n",
    "\n",
    "def gradlogll(V):\n",
    "\n",
    "    Vin = hp.extract_upper_triangle(V)\n",
    "    grad = -model.neg_logll_grad(Vin)[1]\n",
    "    \n",
    "    return grad\n",
    "\n",
    "def num_grad(V, row = 0, col = 0, dx = 1e-6):\n",
    "    \n",
    "    V1 = np.copy(V)\n",
    "    V2 = np.copy(V)\n",
    "    V1[row, col] += dx\n",
    "    V2[row, col] -= dx\n",
    "    \n",
    "    derivative = (logll(V1) - logll(V2))/2 * dx\n",
    "    \n",
    "    return derivative\n",
    "\n",
    "def jacobian(V, dx = 1e-6):\n",
    "    \n",
    "    rows = V.shape[0]\n",
    "    cols = V.shape[1]\n",
    "    \n",
    "    J = np.empty((rows, cols))\n",
    "    \n",
    "    for row in range(rows):\n",
    "        for col in range(cols):\n",
    "            J[row, col] = num_grad(V, row = row, col = col)\n",
    "    \n",
    "    return J\n",
    "\n",
    "num_grad(V)"
   ]
  },
  {
   "cell_type": "code",
   "execution_count": 21,
   "metadata": {},
   "outputs": [
    {
     "data": {
      "text/plain": [
       "array([[9.87753936e-13]])"
      ]
     },
     "execution_count": 21,
     "metadata": {},
     "output_type": "execute_result"
    }
   ],
   "source": [
    "jacobian(V)"
   ]
  },
  {
   "cell_type": "code",
   "execution_count": 22,
   "metadata": {},
   "outputs": [
    {
     "data": {
      "text/plain": [
       "34.795640523907664"
      ]
     },
     "execution_count": 22,
     "metadata": {},
     "output_type": "execute_result"
    }
   ],
   "source": [
    "-model.neg_logll_grad(V)[1][0]"
   ]
  },
  {
   "cell_type": "markdown",
   "metadata": {},
   "source": [
    "Comparing Log Likelihood Functions"
   ]
  },
  {
   "cell_type": "code",
   "execution_count": 23,
   "metadata": {},
   "outputs": [
    {
     "data": {
      "text/plain": [
       "-326.3238961757506"
      ]
     },
     "execution_count": 23,
     "metadata": {},
     "output_type": "execute_result"
    }
   ],
   "source": [
    "# comparing log likelihoods\n",
    "\n",
    "Si = S[0]\n",
    "ri = model.r[0]\n",
    "logll = scipy.stats.multivariate_normal.logpdf(model.theta, \n",
    "                                               mean = np.zeros(1),\n",
    "                                               cov = Si + ri * V/N)\n",
    "logll.sum()"
   ]
  },
  {
   "cell_type": "code",
   "execution_count": 24,
   "metadata": {},
   "outputs": [
    {
     "data": {
      "text/plain": [
       "-343.2478882273632"
      ]
     },
     "execution_count": 24,
     "metadata": {},
     "output_type": "execute_result"
    }
   ],
   "source": [
    "-model.neg_logll_grad(V)[0]"
   ]
  }
 ],
 "metadata": {
  "kernelspec": {
   "display_name": "Python 3",
   "language": "python",
   "name": "python3"
  },
  "language_info": {
   "codemirror_mode": {
    "name": "ipython",
    "version": 3
   },
   "file_extension": ".py",
   "mimetype": "text/x-python",
   "name": "python",
   "nbconvert_exporter": "python",
   "pygments_lexer": "ipython3",
   "version": "3.7.4"
  }
 },
 "nbformat": 4,
 "nbformat_minor": 4
}
