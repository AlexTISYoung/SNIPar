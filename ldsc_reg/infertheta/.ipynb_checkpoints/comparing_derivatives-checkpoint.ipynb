{
 "cells": [
  {
   "cell_type": "code",
   "execution_count": 124,
   "metadata": {},
   "outputs": [
    {
     "data": {
      "text/plain": [
       "<module 'ldsc_72' from 'C:\\\\Users\\\\Hariharan\\\\Documents\\\\git_repos\\\\SNIPar\\\\ldsc_reg\\\\infertheta\\\\ldsc_72.py'>"
      ]
     },
     "execution_count": 124,
     "metadata": {},
     "output_type": "execute_result"
    }
   ],
   "source": [
    "from importlib import reload\n",
    "import numpy as np\n",
    "import helperfuncs as hp\n",
    "import ldsc_72 as ld\n",
    "import matplotlib.pyplot as plt\n",
    "import scipy.stats\n",
    "reload(ld)"
   ]
  },
  {
   "cell_type": "code",
   "execution_count": 125,
   "metadata": {},
   "outputs": [
    {
     "name": "stdout",
     "output_type": "stream",
     "text": [
      "Warning there is no value for theta. Maybe consider simulating it\n",
      "No value for U given. Generating a vector of ones (all SNPs weighted equally)\n",
      "No value for r given. Generating a vector of ones for r\n",
      "Warning: No value given for allele frequencies. Some parameters won't be noramlized.\n",
      "Simulated LD scores!\n",
      "Effect Vectors Simulated!\n"
     ]
    }
   ],
   "source": [
    "# Getting model set up\n",
    "\n",
    "np.random.seed(123)\n",
    "N = 100\n",
    "S_size=  int(N/2)\n",
    "S = np.array([100/N] * N).reshape((N, 1, 1))\n",
    "V = np.identity(1) * 100\n",
    "\n",
    "model = ld.sibreg(S = S)\n",
    "model.simdata(V, N, simr = True)"
   ]
  },
  {
   "cell_type": "code",
   "execution_count": 126,
   "metadata": {},
   "outputs": [],
   "source": [
    "negll, neggrad = model.neg_logll_grad(V)"
   ]
  },
  {
   "cell_type": "code",
   "execution_count": 127,
   "metadata": {},
   "outputs": [
    {
     "data": {
      "text/plain": [
       "array([-34.79564052])"
      ]
     },
     "execution_count": 127,
     "metadata": {},
     "output_type": "execute_result"
    }
   ],
   "source": [
    "neggrad"
   ]
  },
  {
   "cell_type": "code",
   "execution_count": 128,
   "metadata": {},
   "outputs": [
    {
     "data": {
      "text/plain": [
       "(array([[468.95261992]]),       fun: 274.6392748836826\n",
       "  hess_inv: <1x1 LbfgsInvHessProduct with dtype=float64>\n",
       "       jac: array([-0.01183156])\n",
       "   message: b'CONVERGENCE: REL_REDUCTION_OF_F_<=_FACTR*EPSMCH'\n",
       "      nfev: 54\n",
       "       nit: 15\n",
       "    status: 0\n",
       "   success: True\n",
       "         x: array([468.95261992]))"
      ]
     },
     "execution_count": 128,
     "metadata": {},
     "output_type": "execute_result"
    }
   ],
   "source": [
    "model.solve(est_init = np.atleast_2d(0))"
   ]
  },
  {
   "cell_type": "code",
   "execution_count": 129,
   "metadata": {},
   "outputs": [
    {
     "data": {
      "text/plain": [
       "0.9877539923763834"
      ]
     },
     "execution_count": 129,
     "metadata": {},
     "output_type": "execute_result"
    }
   ],
   "source": [
    "def logll(V):\n",
    "\n",
    "    Vin = hp.extract_upper_triangle(V)\n",
    "    logll = -model.neg_logll_grad(Vin)[0]\n",
    "    \n",
    "    return logll\n",
    "\n",
    "def gradlogll(V):\n",
    "\n",
    "    Vin = hp.extract_upper_triangle(V)\n",
    "    grad = -model.neg_logll_grad(Vin)[1]\n",
    "    \n",
    "    return grad\n",
    "\n",
    "def num_grad(V, row = 0, col = 0, dx = 1e-6):\n",
    "    \n",
    "    V1 = np.copy(V)\n",
    "    V1[row, col] += dx\n",
    "    \n",
    "    derivative = (logll(V1) - logll(V))/dx\n",
    "    \n",
    "    return derivative\n",
    "\n",
    "num_grad(V)"
   ]
  },
  {
   "cell_type": "code",
   "execution_count": 130,
   "metadata": {},
   "outputs": [
    {
     "data": {
      "text/plain": [
       "34.795640523907664"
      ]
     },
     "execution_count": 130,
     "metadata": {},
     "output_type": "execute_result"
    }
   ],
   "source": [
    "-model.neg_logll_grad(V)[1][0]"
   ]
  },
  {
   "cell_type": "markdown",
   "metadata": {},
   "source": [
    "Comparing Log Likelihood Functions"
   ]
  },
  {
   "cell_type": "code",
   "execution_count": 78,
   "metadata": {},
   "outputs": [
    {
     "data": {
      "text/plain": [
       "-70.66271854798362"
      ]
     },
     "execution_count": 78,
     "metadata": {},
     "output_type": "execute_result"
    }
   ],
   "source": [
    "# comparing log likelihoods\n",
    "\n",
    "Si = S[0]\n",
    "ri = model.r[0]\n",
    "logll = scipy.stats.multivariate_normal.logpdf(model.theta, \n",
    "                                               mean = np.zeros(1),\n",
    "                                               cov = Si + ri * V/N)\n",
    "logll.sum()"
   ]
  },
  {
   "cell_type": "code",
   "execution_count": 79,
   "metadata": {},
   "outputs": [
    {
     "data": {
      "text/plain": [
       "-62.904707638511326"
      ]
     },
     "execution_count": 79,
     "metadata": {},
     "output_type": "execute_result"
    }
   ],
   "source": [
    "-model.neg_logll_grad(V)[0]"
   ]
  }
 ],
 "metadata": {
  "kernelspec": {
   "display_name": "Python 3",
   "language": "python",
   "name": "python3"
  },
  "language_info": {
   "codemirror_mode": {
    "name": "ipython",
    "version": 3
   },
   "file_extension": ".py",
   "mimetype": "text/x-python",
   "name": "python",
   "nbconvert_exporter": "python",
   "pygments_lexer": "ipython3",
   "version": "3.7.4"
  }
 },
 "nbformat": 4,
 "nbformat_minor": 4
}
