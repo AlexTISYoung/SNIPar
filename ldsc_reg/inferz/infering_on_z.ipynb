{
 "cells": [
  {
   "cell_type": "code",
   "execution_count": 40,
   "metadata": {},
   "outputs": [
    {
     "output_type": "execute_result",
     "data": {
      "text/plain": [
       "<module 'sib_ldsc_z' from 'c:\\\\Users\\\\Hariharan\\\\Documents\\\\git_repos\\\\SNIPar\\\\ldsc_reg\\\\inferz\\\\sib_ldsc_z.py'>"
      ]
     },
     "metadata": {},
     "execution_count": 40
    }
   ],
   "source": [
    "import numpy as np\n",
    "import sib_ldsc_z as ld\n",
    "from scipy.optimize import minimize\n",
    "from scipy.special import comb\n",
    "from scipy.misc import derivative\n",
    "import scipy.stats\n",
    "from importlib import reload\n",
    "import matplotlib.pyplot as plt\n",
    "import seaborn as sns\n",
    "import h5py\n",
    "import glob\n",
    "reload(ld)"
   ]
  },
  {
   "cell_type": "markdown",
   "metadata": {},
   "source": [
    "# Defining the PDF and the Log Likelihoods\n",
    "\n",
    "The likelihood for a SNP $i$ is:\n",
    "\n",
    "$$\n",
    "l_i = -\\frac{d}{2} log (2 \\pi) - \\frac{1}{2} log ( |I + r_i S_i^{-1/2} V S_i^{-1/2}| ) - \\frac{1}{2} z_i^T (I + r_i S_i^{-1/2} V S_i^{-1/2}) ^{-1} z_i\n",
    "$$\n",
    "\n",
    "And its derivative:\n",
    "\n",
    "$$\n",
    "\\frac{dl}{dV} = r_i S^{-1/2} \\Sigma_i^{-1} (\\Sigma - z_i z_i^T) \\Sigma_i^{-1} S^{-1/2}\n",
    "$$"
   ]
  },
  {
   "cell_type": "code",
   "execution_count": 41,
   "metadata": {},
   "outputs": [
    {
     "output_type": "stream",
     "name": "stdout",
     "text": [
      "Warning there is no value for z. Maybe consider simulating it\nNo value for U given. Generating a vector of ones (all SNPs weighted equally)\nNo value for r given. Generating a vector of ones for r\nWarning: No value given for allele frequencies. Some parameters won't be normalized.\n"
     ]
    }
   ],
   "source": [
    "np.random.seed(123)\n",
    "\n",
    "# N = int(100)\n",
    "# S_size = int(N/2)\n",
    "# S = np.array([np.array([[.5, 0], [0, .8]]),\n",
    "#     np.array([[0.5, 0], [0, 0.8]])] * S_size )/N\n",
    "# V = np.identity(2) * 0.5\n",
    "\n",
    "N = int(1e4)\n",
    "S = np.array([[[1e-4, -5 * 1e-5], [-5 * 1e-5, 1e-4]]] * N)\n",
    "V = np.array([[0.5, 0.25], [0.25, 0.5]])\n",
    "\n",
    "\n",
    "# N = int(1e4)\n",
    "# S = np.array([[[1e-4, -5 * 1e-5, -4 * 1e-5], [-5 * 1e-5, 1e-4, -4 * 1e-5], [-5 * 1e-5, -4 * 1e-5, 1e-4]]] * N)\n",
    "# V = np.array([[0.5, 0.25, 0.25], [0.25, 0.5, 0.25], [0.25, 0.25, 0.5]])\n",
    "\n",
    "model = ld.sibreg(S = S)\n",
    "model.simdata(V/N, N)"
   ]
  },
  {
   "cell_type": "code",
   "execution_count": 43,
   "metadata": {},
   "outputs": [
    {
     "output_type": "execute_result",
     "data": {
      "text/plain": [
       "True"
      ]
     },
     "metadata": {},
     "execution_count": 43
    }
   ],
   "source": [
    "# Testing derivatives\n",
    "aderiv = ld._grad_ll_v(ld.Vmat2V(V, N), model.z[0, :], model.S[0],  model.r[0], N)\n",
    "\n",
    "nderiv = ld._num_grad_V(ld.Vmat2V(V, N), model.z[0, :], model.S[0], model.r[0],  N)\n",
    "\n",
    "np.allclose(aderiv, nderiv)"
   ]
  },
  {
   "cell_type": "code",
   "execution_count": 44,
   "metadata": {
    "tags": []
   },
   "outputs": [
    {
     "output_type": "stream",
     "name": "stdout",
     "text": [
      "No initial guess provided.\n",
      "Making 'optimal' matrix\n",
      "=================================================\n",
      "Logll : 35239.41726772389\n",
      "V : [1.e-06 1.e-06 0.e+00]\n",
      "Logll : 32415.89683574153\n",
      "V : [6.82502259e-01 7.30885418e-01 1.30583376e-06]\n",
      "Logll : 32397.446580681\n",
      "V : [0.66514028 0.72000816 0.03559895]\n",
      "Logll : 32341.463045050004\n",
      "V : [0.59569237 0.67649912 0.17798952]\n",
      "Logll : 32300.142562068013\n",
      "V : [0.46317375 0.55327355 0.39330531]\n",
      "Logll : 32297.084300027993\n",
      "V : [0.48258623 0.53512273 0.45274442]\n",
      "Logll : 32296.55064823351\n",
      "V : [0.46844001 0.53844819 0.46978596]\n",
      "Logll : 32296.48299330651\n",
      "V : [0.46348056 0.54285594 0.47613897]\n",
      "Logll : 32296.482906011857\n",
      "V : [0.46337656 0.54258746 0.47642431]\n",
      "Logll : 32296.482905854835\n",
      "V : [0.4633824  0.5425836  0.47643491]\n",
      "Logll : 32296.48290585475\n",
      "V : [0.4633823  0.54258363 0.47643523]\n",
      "      fun: 32296.48290585475\n",
      " hess_inv: <3x3 LbfgsInvHessProduct with dtype=float64>\n",
      "      jac: array([ 1.46553826e-06, -2.97458568e-06, -1.89015940e-06])\n",
      "  message: b'CONVERGENCE: NORM_OF_PROJECTED_GRADIENT_<=_PGTOL'\n",
      "     nfev: 11\n",
      "      nit: 9\n",
      "   status: 0\n",
      "  success: True\n",
      "        x: array([0.4633823 , 0.54258363, 0.47643523])\n"
     ]
    }
   ],
   "source": [
    "# solving\n",
    "output, result = model.solve()\n",
    "print(result)"
   ]
  },
  {
   "cell_type": "code",
   "execution_count": 47,
   "metadata": {},
   "outputs": [
    {
     "output_type": "execute_result",
     "data": {
      "text/plain": [
       "{'v1': 0.46338230061859587, 'v2': 0.5425836300794872, 'r': 0.4764352261560131}"
      ]
     },
     "metadata": {},
     "execution_count": 47
    }
   ],
   "source": [
    "output"
   ]
  }
 ],
 "metadata": {
  "kernelspec": {
   "display_name": "Python 3",
   "language": "python",
   "name": "python3"
  },
  "language_info": {
   "codemirror_mode": {
    "name": "ipython",
    "version": 3
   },
   "file_extension": ".py",
   "mimetype": "text/x-python",
   "name": "python",
   "nbconvert_exporter": "python",
   "pygments_lexer": "ipython3",
   "version": "3.7.4-final"
  }
 },
 "nbformat": 4,
 "nbformat_minor": 4
}