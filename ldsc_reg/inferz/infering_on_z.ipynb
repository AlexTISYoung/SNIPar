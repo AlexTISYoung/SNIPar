{
 "cells": [
  {
   "cell_type": "code",
   "execution_count": 1,
   "metadata": {},
   "outputs": [
    {
     "data": {
      "text/plain": [
       "<module 'sib_ldsc_z' from 'C:\\\\Users\\\\Hariharan\\\\Documents\\\\git_repos\\\\SNIPar\\\\ldsc_reg\\\\inferz\\\\sib_ldsc_z.py'>"
      ]
     },
     "execution_count": 1,
     "metadata": {},
     "output_type": "execute_result"
    }
   ],
   "source": [
    "import numpy as np\n",
    "import sib_ldsc_z as ld\n",
    "from scipy.optimize import minimize\n",
    "from scipy.special import comb\n",
    "from scipy.misc import derivative\n",
    "import scipy.stats\n",
    "from importlib import reload\n",
    "import matplotlib.pyplot as plt\n",
    "import seaborn as sns\n",
    "import h5py\n",
    "import glob\n",
    "reload(ld)"
   ]
  },
  {
   "cell_type": "markdown",
   "metadata": {},
   "source": [
    "# Defining the PDF and the Log Likelihoods\n",
    "\n",
    "The likelihood for a SNP $i$ is:\n",
    "\n",
    "$$\n",
    "l_i = -\\frac{d}{2} log (2 \\pi) - \\frac{1}{2} log ( |I + r_i S_i^{-1/2} V S_i^{-1/2}| ) - \\frac{1}{2} z_i^T (I + r_i S_i^{-1/2} V S_i^{-1/2}) ^{-1} z_i\n",
    "$$\n",
    "\n",
    "And its derivative:\n",
    "\n",
    "$$\n",
    "\\frac{dl}{dV} = r_i S^{-1/2} \\Sigma_i^{-1} (\\Sigma - z_i z_i^T) \\Sigma_i^{-1} S^{-1/2}\n",
    "$$"
   ]
  },
  {
   "cell_type": "code",
   "execution_count": 2,
   "metadata": {},
   "outputs": [],
   "source": [
    "np.random.seed(123)\n",
    "\n",
    "# N = int(100)\n",
    "# S_size = int(N/2)\n",
    "# S = np.array([np.array([[.5, 0], [0, .8]]),\n",
    "#     np.array([[0.5, 0], [0, 0.8]])] * S_size )\n",
    "# V = np.identity(2) * 0.5\n",
    "# f = np.random.uniform(0, 1, N)\n",
    "\n",
    "N = int(1e4)\n",
    "S = np.array([[[1e-4, -5 * 1e-5], [-5 * 1e-5, 1e-4]]] * N)\n",
    "V = np.array([[0.5, 0.25], [0.25, 0.5]])"
   ]
  },
  {
   "cell_type": "code",
   "execution_count": 3,
   "metadata": {
    "tags": []
   },
   "outputs": [
    {
     "name": "stdout",
     "output_type": "stream",
     "text": [
      "Warning there is no value for z. Maybe consider simulating it\n",
      "No value for U given. Generating a vector of ones (all SNPs weighted equally)\n",
      "No value for r given. Generating a vector of ones for r\n",
      "Warning: No value given for allele frequencies. Some parameters won't be normalized.\n",
      "Simulated LD scores!\n",
      "Effect Vectors Simulated!\n"
     ]
    }
   ],
   "source": [
    "model = ld.sibreg(S = S)\n",
    "model.simdata(V/N, N, simr = True)"
   ]
  },
  {
   "cell_type": "code",
   "execution_count": 4,
   "metadata": {
    "tags": []
   },
   "outputs": [
    {
     "name": "stdout",
     "output_type": "stream",
     "text": [
      "-38631.03860184949, [[0.5  0.25]\n",
      " [0.25 0.5 ]]\n"
     ]
    },
    {
     "data": {
      "text/plain": [
       "(38631.03860184949, array([-140.90639708,  -82.11590935,  125.08515464]))"
      ]
     },
     "execution_count": 4,
     "metadata": {},
     "output_type": "execute_result"
    }
   ],
   "source": [
    "Vin = ld.extract_upper_triangle(V)\n",
    "model.neg_logll_grad(Vin)"
   ]
  },
  {
   "cell_type": "code",
   "execution_count": 5,
   "metadata": {},
   "outputs": [
    {
     "data": {
      "text/plain": [
       "True"
      ]
     },
     "execution_count": 5,
     "metadata": {},
     "output_type": "execute_result"
    }
   ],
   "source": [
    "# Testing derivatives\n",
    "aderiv = model._grad_ll_v(V, model.z[0, :], model.S[0],  model.r[0])\n",
    "\n",
    "nderiv = model._num_grad_V(V, model.z[0, :], model.S[0],  model.r[0])\n",
    "\n",
    "np.allclose(aderiv, nderiv)"
   ]
  },
  {
   "cell_type": "code",
   "execution_count": 6,
   "metadata": {
    "tags": []
   },
   "outputs": [
    {
     "name": "stdout",
     "output_type": "stream",
     "text": [
      "No initial guess provided.\n",
      "Making 'optimal' matrix\n",
      "=================================================\n",
      "-53885.63883263604, [[1.e-06 0.e+00]\n",
      " [0.e+00 1.e-06]]\n",
      "-39174.91113085404, [[0.59828088 0.55097349]\n",
      " [0.55097349 0.58179941]]\n",
      "-39075.68463881357, [[0.60889756 0.53379927]\n",
      " [0.53379927 0.59148168]]\n",
      "-38874.593261680006, [[0.64220394 0.47313802]\n",
      " [0.47313802 0.6182262 ]]\n",
      "-38817.423705512934, [[0.65891829 0.43603959]\n",
      " [0.43603959 0.62745011]]\n",
      "-38784.86161289391, [[0.6711916  0.40092216]\n",
      " [0.40092216 0.62909792]]\n",
      "-38761.81093709159, [[0.67820015 0.36661315]\n",
      " [0.36661315 0.62322344]]\n",
      "-38733.76991520625, [[0.67970455 0.30918831]\n",
      " [0.30918831 0.60363174]]\n",
      "-38714.2543860015, [[0.66103192 0.23610379]\n",
      " [0.23610379 0.5696433 ]]\n",
      "-38699.979418211406, [[0.6164181  0.19464524]\n",
      " [0.19464524 0.54090087]]\n",
      "-38655.96400716245, [[0.54127437 0.2035464 ]\n",
      " [0.2035464  0.50564764]]\n",
      "-38629.63701458618, [[0.50291681 0.26571183]\n",
      " [0.26571183 0.47456159]]\n",
      "-38627.567327699704, [[0.52405994 0.26039677]\n",
      " [0.26039677 0.48626418]]\n",
      "-38627.523595919534, [[0.52258617 0.2620671 ]\n",
      " [0.2620671  0.48482413]]\n",
      "-38627.52359071212, [[0.52261778 0.26207497]\n",
      " [0.26207497 0.48484062]]\n",
      "      fun: 38627.52359071212\n",
      " hess_inv: <3x3 LbfgsInvHessProduct with dtype=float64>\n",
      "      jac: array([-0.02602272,  0.01285953, -0.01835331])\n",
      "  message: b'CONVERGENCE: REL_REDUCTION_OF_F_<=_FACTR*EPSMCH'\n",
      "     nfev: 15\n",
      "      nit: 14\n",
      "   status: 0\n",
      "  success: True\n",
      "        x: array([0.52261778, 0.26207497, 0.48484062])\n"
     ]
    }
   ],
   "source": [
    "# solving\n",
    "output, result = model.solve() #), gradfunc = model._num_grad_V\n",
    "print(result)"
   ]
  },
  {
   "cell_type": "code",
   "execution_count": 7,
   "metadata": {},
   "outputs": [
    {
     "data": {
      "text/plain": [
       "array([[0.52261778, 0.26207497],\n",
       "       [0.26207497, 0.48484062]])"
      ]
     },
     "execution_count": 7,
     "metadata": {},
     "output_type": "execute_result"
    }
   ],
   "source": [
    "output"
   ]
  },
  {
   "cell_type": "code",
   "execution_count": 8,
   "metadata": {},
   "outputs": [],
   "source": [
    "modll = model._log_ll(V, model.z[0, :], model.S[0], model.r[0])"
   ]
  },
  {
   "cell_type": "code",
   "execution_count": 9,
   "metadata": {
    "tags": []
   },
   "outputs": [
    {
     "name": "stdout",
     "output_type": "stream",
     "text": [
      "-11.68651716929529\n"
     ]
    }
   ],
   "source": [
    "V_norm = V\n",
    "S_inv_root = ld.calc_inv_root(model.S[0])\n",
    "dist = scipy.stats.multivariate_normal(mean = None,\n",
    "                                      cov = np.eye(V.shape[0]) + model.r[0] * S_inv_root @ V_norm @ S_inv_root)\n",
    "\n",
    "nlogll = dist.logpdf(model.z[0, :])\n",
    "print(nlogll)"
   ]
  },
  {
   "cell_type": "code",
   "execution_count": 10,
   "metadata": {},
   "outputs": [
    {
     "data": {
      "text/plain": [
       "-11.68651716929529"
      ]
     },
     "execution_count": 10,
     "metadata": {},
     "output_type": "execute_result"
    }
   ],
   "source": [
    "modll"
   ]
  },
  {
   "cell_type": "markdown",
   "metadata": {},
   "source": [
    "# Playing with Derivatives"
   ]
  },
  {
   "cell_type": "code",
   "execution_count": 11,
   "metadata": {},
   "outputs": [],
   "source": [
    "def alogll_grad(V, S=model.S):\n",
    "    \n",
    "    d = S[0].shape[0]\n",
    "    log_ll = 0\n",
    "    Gvec = np.zeros((d, d))\n",
    "    N = len(S)\n",
    "    V_norm = V/N\n",
    "    \n",
    "    for i in range(N):\n",
    "        Si = S[i]\n",
    "        zi = model.z[i, :].reshape((d, 1))\n",
    "        ui = model.u[i]\n",
    "        ri = model.r[i]\n",
    "#         Si = N * Si \n",
    "\n",
    "\n",
    "        log_ll += (1/ui) * model._log_ll(V_norm , zi, Si, ri)\n",
    "        Gvec += (1/ui) * model._grad_ll_v(V_norm, zi, Si, ri)\n",
    "        \n",
    "    return -log_ll, -Gvec/(N)"
   ]
  },
  {
   "cell_type": "code",
   "execution_count": 12,
   "metadata": {},
   "outputs": [],
   "source": [
    "def snorm_logll_grad(V, S=model.S):\n",
    "    \n",
    "    # gradient calcualted by using S=S*N but\n",
    "    # not using G = G/N\n",
    "    \n",
    "    d = S[0].shape[0]\n",
    "    log_ll = 0\n",
    "    Gvec = np.zeros((d, d))\n",
    "    N = len(S)\n",
    "    V_norm = V#/N\n",
    "    \n",
    "    for i in range(N):\n",
    "        Si = S[i]\n",
    "        zi = model.z[i, :].reshape((d, 1))\n",
    "        ui = model.u[i]\n",
    "        ri = model.r[i]\n",
    "        Si = N * Si \n",
    "\n",
    "\n",
    "        log_ll += (1/ui) * model._log_ll(V_norm , zi, Si, ri)\n",
    "        Gvec += (1/ui) * model._grad_ll_v(V_norm, zi, Si, ri)\n",
    "        \n",
    "    return -log_ll, -Gvec#/(N)"
   ]
  },
  {
   "cell_type": "code",
   "execution_count": 13,
   "metadata": {},
   "outputs": [],
   "source": [
    "def nderiv(V, grad_func):\n",
    "    \n",
    "    g = np.zeros(V.shape)\n",
    "    for i in range(0,V.shape[0]):\n",
    "        for j in range(0,V.shape[1]):\n",
    "            dV = np.zeros((V.shape))\n",
    "            dV[i,j] = 10 ** (-6)\n",
    "            V_upper = V+dV\n",
    "            V_lower = V-dV\n",
    "            g[i,j] = (grad_func(V_upper)[0] - \\\n",
    "                      grad_func(V_lower)[0]) / (2 * 10 ** (-6))\n",
    "    return g\n"
   ]
  },
  {
   "cell_type": "code",
   "execution_count": 14,
   "metadata": {},
   "outputs": [
    {
     "name": "stdout",
     "output_type": "stream",
     "text": [
      "[[-140.90639708  -82.11590935]\n",
      " [ -82.11590935  125.08515464]]\n"
     ]
    }
   ],
   "source": [
    "ajac = alogll_grad(V)[1]\n",
    "print(ajac)"
   ]
  },
  {
   "cell_type": "code",
   "execution_count": 15,
   "metadata": {},
   "outputs": [
    {
     "name": "stdout",
     "output_type": "stream",
     "text": [
      "[[-140.90638797  -82.11585373]\n",
      " [ -82.11585373  125.08519285]]\n"
     ]
    }
   ],
   "source": [
    "njac = nderiv(V, alogll_grad)\n",
    "print(njac)"
   ]
  },
  {
   "cell_type": "code",
   "execution_count": 16,
   "metadata": {},
   "outputs": [
    {
     "data": {
      "text/plain": [
       "True"
      ]
     },
     "execution_count": 16,
     "metadata": {},
     "output_type": "execute_result"
    }
   ],
   "source": [
    "np.allclose(njac, ajac)"
   ]
  },
  {
   "cell_type": "code",
   "execution_count": 17,
   "metadata": {},
   "outputs": [
    {
     "name": "stdout",
     "output_type": "stream",
     "text": [
      "[[-140.90638797  -82.11585373]\n",
      " [ -82.11585373  125.08518921]]\n"
     ]
    }
   ],
   "source": [
    "njac = nderiv(V, snorm_logll_grad)\n",
    "print(njac)"
   ]
  },
  {
   "cell_type": "code",
   "execution_count": 18,
   "metadata": {},
   "outputs": [
    {
     "name": "stdout",
     "output_type": "stream",
     "text": [
      "[[-140.90639708  -82.11590935]\n",
      " [ -82.11590935  125.08515464]]\n"
     ]
    }
   ],
   "source": [
    "ajac = snorm_logll_grad(V)[1]\n",
    "print(ajac)"
   ]
  },
  {
   "cell_type": "markdown",
   "metadata": {},
   "source": [
    "# Comparing Z's of Causal SNPs and Small Sim"
   ]
  },
  {
   "cell_type": "code",
   "execution_count": 19,
   "metadata": {},
   "outputs": [
    {
     "name": "stdout",
     "output_type": "stream",
     "text": [
      "Reading files...\n",
      "Reading file:  C:/Users/Hariharan/Documents/genoecon_work/snipardata/causal.hdf5\n",
      "S matrix: [[[ 2.49708974e-04 -1.78184186e-04 -1.28097367e-04]\n",
      "  [-1.78184186e-04  9.47441498e-04 -5.13250765e-04]\n",
      "  [-1.28097367e-04 -5.13250765e-04  8.28836346e-04]]\n",
      "\n",
      " [[ 3.28004273e-04 -2.32643710e-04 -1.72544300e-04]\n",
      "  [-2.32643710e-04  1.22006156e-03 -6.53659808e-04]\n",
      "  [-1.72544300e-04 -6.53659808e-04  1.07297208e-03]]\n",
      "\n",
      " [[ 5.27196098e-04 -3.77260410e-04 -2.80475797e-04]\n",
      "  [-3.77260410e-04  1.98145583e-03 -1.07192912e-03]\n",
      "  [-2.80475797e-04 -1.07192912e-03  1.77837047e-03]]\n",
      "\n",
      " ...\n",
      "\n",
      " [[ 6.16542675e-05  1.31975798e-06 -1.13049909e-05]\n",
      "  [ 1.31975798e-06  5.47293923e-04 -1.85105309e-04]\n",
      "  [-1.13049909e-05 -1.85105309e-04  3.47601832e-04]]\n",
      "\n",
      " [[ 2.30412261e-04  1.88402828e-05 -4.37237904e-05]\n",
      "  [ 1.88402828e-05  1.63058180e-03 -1.14203047e-03]\n",
      "  [-4.37237904e-05 -1.14203047e-03  1.44876423e-03]]\n",
      "\n",
      " [[ 2.96793558e-04  2.50526136e-05 -9.40222435e-06]\n",
      "  [ 2.50526136e-05  4.27673076e-04 -3.64416948e-04]\n",
      "  [-9.40222435e-06 -3.64416948e-04  4.11582994e-04]]]\n",
      "Theta Matrix:  [[ 0.01478307  0.04278919 -0.02204641]\n",
      " [ 0.0174218  -0.02827349 -0.02033619]\n",
      " [ 0.02259376 -0.01501096  0.05600988]\n",
      " ...\n",
      " [ 0.00041668  0.04624886 -0.03155084]\n",
      " [-0.01805716  0.05069062 -0.09154749]\n",
      " [-0.00319163  0.0128955   0.01747876]]\n",
      "Initiating Model...\n"
     ]
    },
    {
     "name": "stderr",
     "output_type": "stream",
     "text": [
      "C:\\Users\\Hariharan\\Anaconda3\\lib\\site-packages\\ipykernel_launcher.py:50: RuntimeWarning: invalid value encountered in matmul\n"
     ]
    },
    {
     "name": "stdout",
     "output_type": "stream",
     "text": [
      "Z:  [[ 1.71489615  1.82660698  0.10959741]\n",
      " [ 0.34703161 -1.13714521 -1.01209088]\n",
      " [ 1.91884219  0.63348112  1.95858415]\n",
      " ...\n",
      " [-0.01531185  1.75799714 -1.30650548]\n",
      " [-1.33615231  0.27179428 -2.55667539]\n",
      " [-0.25655738  1.96755749  2.15679972]]\n"
     ]
    }
   ],
   "source": [
    "# Reading file\n",
    "files = glob.glob(\"C:/Users/Hariharan/Documents/genoecon_work/snipardata/causal.hdf5\")\n",
    "print(\"Reading files...\")\n",
    "\n",
    "# read in first file\n",
    "file = files[0]\n",
    "print(\"Reading file: \", file)\n",
    "hf = h5py.File(file, 'r')\n",
    "theta  = hf.get('estimate')[()]\n",
    "S = hf.get('estimate_covariance')[()]\n",
    "f = hf.get('freqs')[()]\n",
    "\n",
    "if len(files) > 1:\n",
    "    for file in files[1:]:\n",
    "        print(\"Reading file: \", file)\n",
    "        hf = h5py.File(file, 'r')\n",
    "        theta_file  = hf.get('estimate')[()] \n",
    "        S_file = hf.get('estimate_covariance')[()]\n",
    "        f_file = hf.get('freqs')[()]\n",
    "\n",
    "        theta = np.append(theta, theta_file, axis = 0)\n",
    "        S = np.append(S, S_file, axis = 0)\n",
    "        f = np.append(f, f_file, axis = 0)\n",
    "  \n",
    "\n",
    "N = theta.shape[0]\n",
    "\n",
    "print(\"S matrix:\", S)\n",
    "print(\"Theta Matrix: \", theta)\n",
    "print(\"Initiating Model...\")\n",
    "\n",
    "# == Keeping only direct effects == #\n",
    "# S = S[:,0 ,0].reshape((S.shape[0], 1, 1))\n",
    "# theta = theta[:, 0].reshape((theta.shape[0], 1))\n",
    "\n",
    "# == amplifying direct effects == #\n",
    "# Sdir = np.empty(len(S))\n",
    "# for i in range(len(S)):\n",
    "#   Sdir[i] = np.array([[1.0, 0.5, 0.5]]) @ S[i] @ np.array([1.0, 0.5, 0.5]).T\n",
    "\n",
    "# S = Sdir.reshape((len(S), 1, 1))\n",
    "# theta = theta @ np.array([1.0, 0.5, 0.5])\n",
    "# theta = theta.reshape((theta.shape[0], 1))\n",
    "\n",
    "\n",
    "# calcualting z\n",
    "z = np.empty_like(theta)\n",
    "z[:] = np.nan\n",
    "for i in range(z.shape[0]):\n",
    "    z[i, :] = ld.calc_inv_root(S[i]) @ theta[i, :].T\n",
    "    \n",
    "print(\"Z: \", z)"
   ]
  },
  {
   "cell_type": "code",
   "execution_count": 20,
   "metadata": {},
   "outputs": [
    {
     "data": {
      "text/plain": [
       "<matplotlib.axes._subplots.AxesSubplot at 0x1f90a7a9a08>"
      ]
     },
     "execution_count": 20,
     "metadata": {},
     "output_type": "execute_result"
    },
    {
     "data": {
      "image/png": "[encoded data removed]",
      "text/plain": [
       "<Figure size 432x288 with 1 Axes>"
      ]
     },
     "metadata": {
      "needs_background": "light"
     },
     "output_type": "display_data"
    }
   ],
   "source": [
    "sns.distplot(z[0, :])\n",
    "sns.distplot(z[1, :])\n",
    "sns.distplot(z[2, :])"
   ]
  }
 ],
 "metadata": {
  "kernelspec": {
   "display_name": "Python 3",
   "language": "python",
   "name": "python3"
  },
  "language_info": {
   "codemirror_mode": {
    "name": "ipython",
    "version": 3
   },
   "file_extension": ".py",
   "mimetype": "text/x-python",
   "name": "python",
   "nbconvert_exporter": "python",
   "pygments_lexer": "ipython3",
   "version": "3.7.4"
  }
 },
 "nbformat": 4,
 "nbformat_minor": 4
}
