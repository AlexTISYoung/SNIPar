{
 "cells": [
  {
   "cell_type": "code",
   "execution_count": 18,
   "metadata": {},
   "outputs": [
    {
     "output_type": "execute_result",
     "data": {
      "text/plain": [
       "<module 'sib_ldsc_z' from '/disk/homedirs/nber/harij/gitrepos/SNIPar/ldsc_reg/inferz/sib_ldsc_z.py'>"
      ]
     },
     "metadata": {},
     "execution_count": 18
    }
   ],
   "source": [
    "import numpy as np\n",
    "import sib_ldsc_z as ld\n",
    "from scipy.optimize import minimize\n",
    "from scipy.special import comb\n",
    "from scipy.misc import derivative\n",
    "import scipy.stats\n",
    "from importlib import reload\n",
    "import matplotlib.pyplot as plt\n",
    "import seaborn as sns\n",
    "import glob\n",
    "reload(ld)"
   ]
  },
  {
   "cell_type": "markdown",
   "metadata": {},
   "source": [
    "# Defining the PDF and the Log Likelihoods\n",
    "\n",
    "The likelihood for a SNP $i$ is:\n",
    "\n",
    "$$\n",
    "l_i = -\\frac{d}{2} log (2 \\pi) - \\frac{1}{2} log ( |I + r_i S_i^{-1/2} V S_i^{-1/2}| ) - \\frac{1}{2} z_i^T (I + r_i S_i^{-1/2} V S_i^{-1/2}) ^{-1} z_i\n",
    "$$\n",
    "\n",
    "And its derivative:\n",
    "\n",
    "$$\n",
    "\\frac{dl}{dV} = r_i S^{-1/2} \\Sigma_i^{-1} (\\Sigma - z_i z_i^T) \\Sigma_i^{-1} S^{-1/2}\n",
    "$$"
   ]
  },
  {
   "cell_type": "code",
   "execution_count": 19,
   "metadata": {},
   "outputs": [
    {
     "output_type": "stream",
     "name": "stdout",
     "text": [
      "Warning there is no value for z. Maybe consider simulating it\nNo value for U given. Generating a vector of ones (all SNPs weighted equally)\nNo value for LD Scores given. Generating a vector of ones for l\nWarning: No value given for allele frequencies. Some parameters won't be normalized.\nNo value for effective number of loci is given. Using total number of loci instead\nSimulated LD scores!\n"
     ]
    }
   ],
   "source": [
    "np.random.seed(123)\n",
    "\n",
    "# N = int(100)\n",
    "# S_size = int(N/2)\n",
    "# S = np.array([np.array([[.5, 0], [0, .8]]),\n",
    "#     np.array([[0.5, 0], [0, 0.8]])] * S_size )/N\n",
    "# V = np.identity(2) * 0.5\n",
    "\n",
    "N = int(1e4)\n",
    "S = np.array([[[1e-4, -5 * 1e-5], [-5 * 1e-5, 1e-4]]] * N)\n",
    "V = np.array([[0.5, 0.25], [0.25, 0.5]])\n",
    "\n",
    "\n",
    "# N = int(1e4)\n",
    "# S = np.array([[[1e-4, -5 * 1e-5, -4 * 1e-5], [-5 * 1e-5, 1e-4, -4 * 1e-5], [-5 * 1e-5, -4 * 1e-5, 1e-4]]] * N)\n",
    "# V = np.array([[0.5, 0.25, 0.25], [0.25, 0.5, 0.25], [0.25, 0.25, 0.5]])\n",
    "\n",
    "model = ld.sibreg(S = S)\n",
    "model.simdata(V/N, N, simld = True)"
   ]
  },
  {
   "cell_type": "code",
   "execution_count": 20,
   "metadata": {},
   "outputs": [
    {
     "output_type": "execute_result",
     "data": {
      "text/plain": [
       "True"
      ]
     },
     "metadata": {},
     "execution_count": 20
    }
   ],
   "source": [
    "# Testing derivatives\n",
    "aderiv = ld._grad_ll_v(ld.Vmat2V(V, N), model.z[0, :], model.S[0],  model.l[0], N)\n",
    "\n",
    "nderiv = ld._num_grad_V(ld.Vmat2V(V, N), model.z[0, :], model.S[0], model.l[0],  N)\n",
    "\n",
    "np.allclose(aderiv, nderiv)"
   ]
  },
  {
   "cell_type": "code",
   "execution_count": 21,
   "metadata": {
    "tags": []
   },
   "outputs": [
    {
     "output_type": "stream",
     "name": "stdout",
     "text": [
      "No initial guess provided.\n",
      "Making Method of Moments Guess\n",
      "=================================================\n",
      "      fun: 37189.05234751942\n",
      " hess_inv: <3x3 LbfgsInvHessProduct with dtype=float64>\n",
      "      jac: array([-0.00462407, -0.00017175,  0.00281469])\n",
      "  message: b'CONVERGENCE: REL_REDUCTION_OF_F_<=_FACTR*EPSMCH'\n",
      "     nfev: 12\n",
      "      nit: 9\n",
      "   status: 0\n",
      "  success: True\n",
      "        x: array([0.51801914, 0.49265043, 0.53215488])\n"
     ]
    }
   ],
   "source": [
    "# solving\n",
    "output, result = model.solve()\n",
    "print(result)"
   ]
  },
  {
   "cell_type": "code",
   "execution_count": 22,
   "metadata": {},
   "outputs": [
    {
     "output_type": "execute_result",
     "data": {
      "text/plain": [
       "{'v1': 0.5180191426965135,\n",
       " 'v2': 0.492650425895693,\n",
       " 'r': 0.5321548816445629,\n",
       " 'invH': array([[ 4.41156965e-04, -1.59973356e-07, -1.45739446e-04],\n",
       "        [-1.59973315e-07,  4.13858136e-04, -1.46218624e-04],\n",
       "        [-1.45739446e-04, -1.46218624e-04,  9.02756653e-04]])}"
      ]
     },
     "metadata": {},
     "execution_count": 22
    }
   ],
   "source": [
    "output"
   ]
  },
  {
   "cell_type": "code",
   "execution_count": 46,
   "metadata": {},
   "outputs": [
    {
     "name": "stdout",
     "output_type": "stream",
     "text": [
      "Real Parameters:\n",
      "v1 = 0.5\n",
      "v2 = 0.5\n",
      "r = 0.5\n"
     ]
    }
   ],
   "source": [
    "print(\"Real Parameters:\")\n",
    "print(f\"v1 = {V[0, 0]}\")\n",
    "print(f\"v2 = {V[1, 1]}\")\n",
    "print(f\"r = {V[0, 1]/np.sqrt(V[0, 0] * V[1, 1])}\")"
   ]
  },
  {
   "cell_type": "code",
   "execution_count": 24,
   "metadata": {},
   "outputs": [
    {
     "output_type": "stream",
     "name": "stdout",
     "text": [
      "Loop Number: 1\n",
      "Current Block: 0 to 100\n",
      "Loop Number: 2\n",
      "Current Block: 100 to 200\n",
      "Loop Number: 3\n",
      "Current Block: 200 to 300\n",
      "Loop Number: 4\n",
      "Current Block: 300 to 400\n",
      "Loop Number: 5\n",
      "Current Block: 400 to 500\n",
      "Loop Number: 6\n",
      "Current Block: 500 to 600\n",
      "Loop Number: 7\n",
      "Current Block: 600 to 700\n",
      "Loop Number: 8\n",
      "Current Block: 700 to 800\n",
      "Loop Number: 9\n",
      "Current Block: 800 to 900\n",
      "Loop Number: 10\n",
      "Current Block: 900 to 1000\n",
      "Loop Number: 11\n",
      "Current Block: 1000 to 1100\n",
      "Loop Number: 12\n",
      "Current Block: 1100 to 1200\n",
      "Loop Number: 13\n",
      "Current Block: 1200 to 1300\n",
      "Loop Number: 14\n",
      "Current Block: 1300 to 1400\n",
      "Loop Number: 15\n",
      "Current Block: 1400 to 1500\n",
      "Loop Number: 16\n",
      "Current Block: 1500 to 1600\n",
      "Loop Number: 17\n",
      "Current Block: 1600 to 1700\n",
      "Loop Number: 18\n",
      "Current Block: 1700 to 1800\n",
      "Loop Number: 19\n",
      "Current Block: 1800 to 1900\n",
      "Loop Number: 20\n",
      "Current Block: 1900 to 2000\n",
      "Loop Number: 21\n",
      "Current Block: 2000 to 2100\n",
      "Loop Number: 22\n",
      "Current Block: 2100 to 2200\n",
      "Loop Number: 23\n",
      "Current Block: 2200 to 2300\n",
      "Loop Number: 24\n",
      "Current Block: 2300 to 2400\n",
      "Loop Number: 25\n",
      "Current Block: 2400 to 2500\n",
      "Loop Number: 26\n",
      "Current Block: 2500 to 2600\n",
      "Loop Number: 27\n",
      "Current Block: 2600 to 2700\n",
      "Loop Number: 28\n",
      "Current Block: 2700 to 2800\n",
      "Loop Number: 29\n",
      "Current Block: 2800 to 2900\n",
      "Loop Number: 30\n",
      "Current Block: 2900 to 3000\n",
      "Loop Number: 31\n",
      "Current Block: 3000 to 3100\n",
      "Loop Number: 32\n",
      "Current Block: 3100 to 3200\n",
      "Loop Number: 33\n",
      "Current Block: 3200 to 3300\n",
      "Loop Number: 34\n",
      "Current Block: 3300 to 3400\n",
      "Loop Number: 35\n",
      "Current Block: 3400 to 3500\n",
      "Loop Number: 36\n",
      "Current Block: 3500 to 3600\n",
      "Loop Number: 37\n",
      "Current Block: 3600 to 3700\n",
      "Loop Number: 38\n",
      "Current Block: 3700 to 3800\n",
      "Loop Number: 39\n",
      "Current Block: 3800 to 3900\n",
      "Loop Number: 40\n",
      "Current Block: 3900 to 4000\n",
      "Loop Number: 41\n",
      "Current Block: 4000 to 4100\n",
      "Loop Number: 42\n",
      "Current Block: 4100 to 4200\n",
      "Loop Number: 43\n",
      "Current Block: 4200 to 4300\n",
      "Loop Number: 44\n",
      "Current Block: 4300 to 4400\n",
      "Loop Number: 45\n",
      "Current Block: 4400 to 4500\n",
      "Loop Number: 46\n",
      "Current Block: 4500 to 4600\n",
      "Loop Number: 47\n",
      "Current Block: 4600 to 4700\n",
      "Loop Number: 48\n",
      "Current Block: 4700 to 4800\n",
      "Loop Number: 49\n",
      "Current Block: 4800 to 4900\n",
      "Loop Number: 50\n",
      "Current Block: 4900 to 5000\n",
      "Loop Number: 51\n",
      "Current Block: 5000 to 5100\n",
      "Loop Number: 52\n",
      "Current Block: 5100 to 5200\n",
      "Loop Number: 53\n",
      "Current Block: 5200 to 5300\n",
      "Loop Number: 54\n",
      "Current Block: 5300 to 5400\n",
      "Loop Number: 55\n",
      "Current Block: 5400 to 5500\n",
      "Loop Number: 56\n",
      "Current Block: 5500 to 5600\n",
      "Loop Number: 57\n",
      "Current Block: 5600 to 5700\n",
      "Loop Number: 58\n",
      "Current Block: 5700 to 5800\n",
      "Loop Number: 59\n",
      "Current Block: 5800 to 5900\n",
      "Loop Number: 60\n",
      "Current Block: 5900 to 6000\n",
      "Loop Number: 61\n",
      "Current Block: 6000 to 6100\n",
      "Loop Number: 62\n",
      "Current Block: 6100 to 6200\n",
      "Loop Number: 63\n",
      "Current Block: 6200 to 6300\n",
      "Loop Number: 64\n",
      "Current Block: 6300 to 6400\n",
      "Loop Number: 65\n",
      "Current Block: 6400 to 6500\n",
      "Loop Number: 66\n",
      "Current Block: 6500 to 6600\n",
      "Loop Number: 67\n",
      "Current Block: 6600 to 6700\n",
      "Loop Number: 68\n",
      "Current Block: 6700 to 6800\n",
      "Loop Number: 69\n",
      "Current Block: 6800 to 6900\n",
      "Loop Number: 70\n",
      "Current Block: 6900 to 7000\n",
      "Loop Number: 71\n",
      "Current Block: 7000 to 7100\n",
      "Loop Number: 72\n",
      "Current Block: 7100 to 7200\n",
      "Loop Number: 73\n",
      "Current Block: 7200 to 7300\n",
      "Loop Number: 74\n",
      "Current Block: 7300 to 7400\n",
      "Loop Number: 75\n",
      "Current Block: 7400 to 7500\n",
      "Loop Number: 76\n",
      "Current Block: 7500 to 7600\n",
      "Loop Number: 77\n",
      "Current Block: 7600 to 7700\n",
      "Loop Number: 78\n",
      "Current Block: 7700 to 7800\n",
      "Loop Number: 79\n",
      "Current Block: 7800 to 7900\n",
      "Loop Number: 80\n",
      "Current Block: 7900 to 8000\n",
      "Loop Number: 81\n",
      "Current Block: 8000 to 8100\n",
      "Loop Number: 82\n",
      "Current Block: 8100 to 8200\n",
      "Loop Number: 83\n",
      "Current Block: 8200 to 8300\n",
      "Loop Number: 84\n",
      "Current Block: 8300 to 8400\n",
      "Loop Number: 85\n",
      "Current Block: 8400 to 8500\n",
      "Loop Number: 86\n",
      "Current Block: 8500 to 8600\n",
      "Loop Number: 87\n",
      "Current Block: 8600 to 8700\n",
      "Loop Number: 88\n",
      "Current Block: 8700 to 8800\n",
      "Loop Number: 89\n",
      "Current Block: 8800 to 8900\n",
      "Loop Number: 90\n",
      "Current Block: 8900 to 9000\n",
      "Loop Number: 91\n",
      "Current Block: 9000 to 9100\n",
      "Loop Number: 92\n",
      "Current Block: 9100 to 9200\n",
      "Loop Number: 93\n",
      "Current Block: 9200 to 9300\n",
      "Loop Number: 94\n",
      "Current Block: 9300 to 9400\n",
      "Loop Number: 95\n",
      "Current Block: 9400 to 9500\n",
      "Loop Number: 96\n",
      "Current Block: 9500 to 9600\n",
      "Loop Number: 97\n",
      "Current Block: 9600 to 9700\n",
      "Loop Number: 98\n",
      "Current Block: 9700 to 9800\n",
      "Loop Number: 99\n",
      "Current Block: 9800 to 9900\n",
      "Loop Number: 100\n",
      "Current Block: 9900 to 10000\n"
     ]
    },
    {
     "output_type": "execute_result",
     "data": {
      "text/plain": [
       "array([0.01235804, 0.01156955, 0.01808044])"
      ]
     },
     "metadata": {},
     "execution_count": 24
    }
   ],
   "source": [
    "model.jackknife_se(blocksize = int(N/100))"
   ]
  }
 ],
 "metadata": {
  "kernelspec": {
   "display_name": "Python 3",
   "language": "python",
   "name": "python3"
  },
  "language_info": {
   "codemirror_mode": {
    "name": "ipython",
    "version": 3
   },
   "file_extension": ".py",
   "mimetype": "text/x-python",
   "name": "python",
   "nbconvert_exporter": "python",
   "pygments_lexer": "ipython3",
   "version": "3.7.0-final"
  }
 },
 "nbformat": 4,
 "nbformat_minor": 4
}