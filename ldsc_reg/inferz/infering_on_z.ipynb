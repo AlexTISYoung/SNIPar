{
 "cells": [
  {
   "cell_type": "code",
   "execution_count": 61,
   "metadata": {},
   "outputs": [
    {
     "data": {
      "text/plain": [
       "<module 'sib_ldsc_z' from 'C:\\\\Users\\\\Hariharan\\\\Documents\\\\git_repos\\\\SNIPar\\\\ldsc_reg\\\\inferz\\\\sib_ldsc_z.py'>"
      ]
     },
     "execution_count": 61,
     "metadata": {},
     "output_type": "execute_result"
    }
   ],
   "source": [
    "import helperfuncs as hp\n",
    "import numpy as np\n",
    "import sib_ldsc_z as ld\n",
    "from scipy.optimize import minimize\n",
    "from scipy.special import comb\n",
    "from scipy.misc import derivative\n",
    "import scipy.stats\n",
    "from importlib import reload\n",
    "import matplotlib.pyplot as plt\n",
    "reload(ld)"
   ]
  },
  {
   "cell_type": "markdown",
   "metadata": {},
   "source": [
    "# Defining the PDF and the Log Likelihoods\n",
    "\n",
    "The likelihood for a SNP $i$ is:\n",
    "\n",
    "$$\n",
    "l_i = -\\frac{d}{2} log (2 \\pi) - \\frac{1}{2} log ( |I + r_i S_i^{-1/2} V S_i^{-1/2}| ) - \\frac{1}{2} z_i^T (I + r_i S_i^{-1/2} V S_i^{-1/2}) ^{-1} z_i\n",
    "$$\n",
    "\n",
    "And its derivative:\n",
    "\n",
    "$$\n",
    "\\frac{dl}{dV} = r_i S^{-1/2} \\Sigma_i^{-1} (\\Sigma - z_i z_i^T) \\Sigma_i^{-1} S^{-1/2}\n",
    "$$"
   ]
  },
  {
   "cell_type": "code",
   "execution_count": 62,
   "metadata": {},
   "outputs": [],
   "source": [
    "np.random.seed(123)\n",
    "\n",
    "N = int(100)\n",
    "S_size = int(N/2)\n",
    "S = np.array([np.array([[.5, 0], [0, .8]]),\n",
    "    np.array([[0.5, 0], [0, 0.8]])] * S_size )\n",
    "V = np.identity(2) * 0.5\n",
    "f = np.random.uniform(0, 1, N)\n",
    "\n",
    "# N = 100\n",
    "# S = np.array([0.5/N] * N).reshape((N, 1, 1))\n",
    "# V = np.atleast_2d(0.5)"
   ]
  },
  {
   "cell_type": "code",
   "execution_count": 63,
   "metadata": {},
   "outputs": [
    {
     "name": "stdout",
     "output_type": "stream",
     "text": [
      "Warning there is no value for z. Maybe consider simulating it\n",
      "No value for U given. Generating a vector of ones (all SNPs weighted equally)\n",
      "No value for r given. Generating a vector of ones for r\n",
      "Simulated LD scores!\n",
      "Effect Vectors Simulated!\n"
     ]
    }
   ],
   "source": [
    "model = ld.sibreg(S = S, f = f)\n",
    "model.simdata(V, N, simr = True)"
   ]
  },
  {
   "cell_type": "code",
   "execution_count": 64,
   "metadata": {},
   "outputs": [
    {
     "name": "stdout",
     "output_type": "stream",
     "text": [
      "Uncaled Logll = [[-394.66726514]], Scaled Logll = [[-408.34509465]]\n"
     ]
    }
   ],
   "source": [
    "# playing with allele freq\n",
    "logll_nonscale = 0\n",
    "logll_scale = 0\n",
    "for idx in range(N):\n",
    "    fi = f[idx]\n",
    "    normalizer = 2 * fi  * (1 - fi) if fi is not None else 1.0\n",
    "    zi = np.sqrt(normalizer) * model.z[idx].reshape(2, 1)\n",
    "    Si = normalizer * model.S[idx]\n",
    "\n",
    "    logll_nonscale += model._log_ll(V, model.z[idx], model.S[idx], model.u[idx], model.r[idx])\n",
    "    logll_scale += model._log_ll(V, zi, Si, model.u[idx], model.r[idx])\n",
    "\n",
    "print(f\"Uncaled Logll = {logll_nonscale}, Scaled Logll = {logll_scale}\")"
   ]
  },
  {
   "cell_type": "code",
   "execution_count": 65,
   "metadata": {},
   "outputs": [
    {
     "name": "stdout",
     "output_type": "stream",
     "text": [
      "[[-433.46485554]], [[0.5 0. ]\n",
      " [0.  0.5]]\n"
     ]
    },
    {
     "data": {
      "text/plain": [
       "(array([[433.46485554]]), array([50.97545377,  1.92058409, 45.79079357]))"
      ]
     },
     "execution_count": 65,
     "metadata": {},
     "output_type": "execute_result"
    }
   ],
   "source": [
    "Vin = hp.extract_upper_triangle(V)\n",
    "model.neg_logll_grad(Vin)"
   ]
  },
  {
   "cell_type": "code",
   "execution_count": 66,
   "metadata": {},
   "outputs": [
    {
     "data": {
      "text/plain": [
       "True"
      ]
     },
     "execution_count": 66,
     "metadata": {},
     "output_type": "execute_result"
    }
   ],
   "source": [
    "# Testing derivatives\n",
    "aderiv = model._grad_ll_v(V, model.z[0, :], model.S[0], \n",
    "                 model.u[0], model.r[0])\n",
    "\n",
    "nderiv = model._num_grad_V(V, model.z[0, :], model.S[0], \n",
    "                 model.u[0], model.r[0])\n",
    "\n",
    "np.allclose(aderiv, nderiv)"
   ]
  },
  {
   "cell_type": "code",
   "execution_count": 67,
   "metadata": {},
   "outputs": [
    {
     "name": "stdout",
     "output_type": "stream",
     "text": [
      "No initial guess provided.\n",
      "Making 'optimal' matrix\n",
      "=================================================\n",
      "[[-502.23579807]], [[1.e-06 0.e+00]\n",
      " [0.e+00 1.e-06]]\n",
      "[[-446.14859974]], [[0.86300061 0.25593791]\n",
      " [0.25593791 0.43557817]]\n",
      "[[-445.64966499]], [[0.85700304 0.25637862]\n",
      " [0.25637862 0.4290796 ]]\n",
      "[[-443.68421158]], [[0.8330128  0.25814148]\n",
      " [0.25814148 0.40308535]]\n",
      "[[-437.03605276]], [[0.73705182 0.26519292]\n",
      " [0.26519292 0.29910834]]\n",
      "[[-446.88594948]], [[0.32429906 0.1604261 ]\n",
      " [0.1604261  0.05594281]]\n",
      "[[-430.65185474]], [[0.53228756 0.2132187 ]\n",
      " [0.2132187  0.17847533]]\n",
      "[[-416.89333565]], [[0.38200962 0.10702202]\n",
      " [0.10702202 0.19114086]]\n",
      "[[-1920.36942684]], [[ 1.00000000e-06 -1.48600104e-01]\n",
      " [-1.48600104e-01  1.94358568e-01]]\n",
      "[[-407.98300637]], [[0.25339643 0.02096014]\n",
      " [0.02096014 0.19222418]]\n",
      "[[34.28307066]], [[ 1.00000000e-06 -6.07526214e-01]\n",
      " [-6.07526214e-01  1.75788424e-01]]\n",
      "[[-407.11453915]], [[ 0.21304053 -0.07913295]\n",
      " [-0.07913295  0.18960662]]\n",
      "[[-613.29898568]], [[1.00000000e-06 1.03134651e-01]\n",
      " [1.03134651e-01 2.05989810e-01]]\n",
      "[[-405.05223931]], [[ 0.13999505 -0.01663834]\n",
      " [-0.01663834  0.19522397]]\n",
      "[[-404.81834789]], [[ 0.18245741 -0.01047553]\n",
      " [-0.01047553  0.18230689]]\n",
      "[[-404.45755038]], [[ 0.16929777 -0.0177863 ]\n",
      " [-0.0177863   0.1754287 ]]\n",
      "[[-404.12627083]], [[ 0.15048387 -0.01655861]\n",
      " [-0.01655861  0.15129728]]\n",
      "[[-404.06606166]], [[ 0.15675576 -0.01641726]\n",
      " [-0.01641726  0.14346718]]\n",
      "[[-404.06313537]], [[ 0.15863019 -0.01403323]\n",
      " [-0.01403323  0.14223568]]\n",
      "[[-404.06221757]], [[ 0.15881217 -0.01531544]\n",
      " [-0.01531544  0.14201941]]\n",
      "[[-404.06216251]], [[ 0.15865128 -0.01510967]\n",
      " [-0.01510967  0.14218641]]\n",
      "[[-404.06216231]], [[ 0.1586573  -0.01510306]\n",
      " [-0.01510306  0.14216129]]\n",
      "      fun: array([[404.06216231]])\n",
      " hess_inv: <3x3 LbfgsInvHessProduct with dtype=float64>\n",
      "      jac: array([-0.00054297,  0.00201911, -0.00189182])\n",
      "  message: b'CONVERGENCE: REL_REDUCTION_OF_F_<=_FACTR*EPSMCH'\n",
      "     nfev: 22\n",
      "      nit: 15\n",
      "   status: 0\n",
      "  success: True\n",
      "        x: array([ 0.1586573 , -0.01510306,  0.14216129])\n"
     ]
    }
   ],
   "source": [
    "# solving\n",
    "output, result = model.solve() #, gradfunc = model._num_grad_V)\n",
    "print(result)"
   ]
  },
  {
   "cell_type": "code",
   "execution_count": 7,
   "metadata": {},
   "outputs": [
    {
     "data": {
      "text/plain": [
       "array([[0.56661609, 0.01371669],\n",
       "       [0.01371669, 0.54802061]])"
      ]
     },
     "execution_count": 7,
     "metadata": {},
     "output_type": "execute_result"
    }
   ],
   "source": [
    "output"
   ]
  },
  {
   "cell_type": "code",
   "execution_count": 8,
   "metadata": {},
   "outputs": [],
   "source": [
    "modll = model._log_ll(V, model.z[0, :], model.S[0], \n",
    "                 model.u[0], model.r[0], \n",
    "                 model.f)"
   ]
  },
  {
   "cell_type": "code",
   "execution_count": 9,
   "metadata": {},
   "outputs": [
    {
     "name": "stdout",
     "output_type": "stream",
     "text": [
      "-3.54456779428641\n"
     ]
    }
   ],
   "source": [
    "V_norm = V/N\n",
    "S_inv_root = hp.calc_inv_root(model.S[0])\n",
    "dist = scipy.stats.multivariate_normal(mean = None,\n",
    "                                      cov = np.eye(V.shape[0]) + model.r[0] * S_inv_root @ V_norm @ S_inv_root)\n",
    "\n",
    "nlogll = dist.logpdf(model.z[0, :])\n",
    "print(nlogll)"
   ]
  },
  {
   "cell_type": "code",
   "execution_count": 10,
   "metadata": {},
   "outputs": [
    {
     "data": {
      "text/plain": [
       "array([[-7.74199121]])"
      ]
     },
     "execution_count": 10,
     "metadata": {},
     "output_type": "execute_result"
    }
   ],
   "source": [
    "modll"
   ]
  },
  {
   "cell_type": "code",
   "execution_count": null,
   "metadata": {},
   "outputs": [],
   "source": []
  }
 ],
 "metadata": {
  "kernelspec": {
   "display_name": "Python 3",
   "language": "python",
   "name": "python3"
  },
  "language_info": {
   "codemirror_mode": {
    "name": "ipython",
    "version": 3
   },
   "file_extension": ".py",
   "mimetype": "text/x-python",
   "name": "python",
   "nbconvert_exporter": "python",
   "pygments_lexer": "ipython3",
   "version": "3.7.4"
  }
 },
 "nbformat": 4,
 "nbformat_minor": 4
}
