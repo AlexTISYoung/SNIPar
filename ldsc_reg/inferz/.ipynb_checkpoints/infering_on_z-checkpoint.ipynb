{
 "cells": [
  {
   "cell_type": "code",
   "execution_count": 123,
   "metadata": {},
   "outputs": [
    {
     "data": {
      "text/plain": [
       "<module 'sib_ldsc_z' from 'C:\\\\Users\\\\Hariharan\\\\Documents\\\\git_repos\\\\SNIPar\\\\ldsc_reg\\\\inferz\\\\sib_ldsc_z.py'>"
      ]
     },
     "execution_count": 123,
     "metadata": {},
     "output_type": "execute_result"
    }
   ],
   "source": [
    "import helperfuncs as hp\n",
    "import numpy as np\n",
    "import sib_ldsc_z as ld\n",
    "from scipy.optimize import minimize\n",
    "from scipy.special import comb\n",
    "from scipy.misc import derivative\n",
    "import scipy.stats\n",
    "from importlib import reload\n",
    "import matplotlib.pyplot as plt\n",
    "reload(ld)"
   ]
  },
  {
   "cell_type": "markdown",
   "metadata": {},
   "source": [
    "# Defining the PDF and the Log Likelihoods\n",
    "\n",
    "The likelihood for a SNP $i$ is:\n",
    "\n",
    "$$\n",
    "l_i = -\\frac{d}{2} log (2 \\pi) - \\frac{1}{2} log ( |I + r_i S_i^{-1/2} V S_i^{-1/2}| ) - \\frac{1}{2} z_i^T (I + r_i S_i^{-1/2} V S_i^{-1/2}) ^{-1} z_i\n",
    "$$\n",
    "\n",
    "And its derivative:\n",
    "\n",
    "$$\n",
    "\\frac{dl}{dV} = r_i S^{-1/2} \\Sigma_i^{-1} (\\Sigma - z_i z_i^T) \\Sigma_i^{-1} S^{-1/2}\n",
    "$$"
   ]
  },
  {
   "cell_type": "code",
   "execution_count": 124,
   "metadata": {},
   "outputs": [],
   "source": [
    "np.random.seed(123)\n",
    "\n",
    "N = int(100)\n",
    "S_size = int(N/2)\n",
    "S = np.array([np.array([[.5, 0], [0, .8]]),\n",
    "    np.array([[0.5, 0], [0, 0.8]])] * S_size )\n",
    "V = np.identity(2) * 0.5\n",
    "f = np.random.uniform(0, 1, N)\n",
    "\n",
    "# N = 100\n",
    "# S = np.array([0.5/N] * N).reshape((N, 1, 1))\n",
    "# V = np.atleast_2d(0.5)"
   ]
  },
  {
   "cell_type": "code",
   "execution_count": 125,
   "metadata": {},
   "outputs": [
    {
     "name": "stdout",
     "output_type": "stream",
     "text": [
      "Warning there is no value for z. Maybe consider simulating it\n",
      "No value for U given. Generating a vector of ones (all SNPs weighted equally)\n",
      "No value for r given. Generating a vector of ones for r\n",
      "Warning: No value given for allele frequencies. Some parameters won't be normalized.\n",
      "Simulated LD scores!\n",
      "Effect Vectors Simulated!\n"
     ]
    }
   ],
   "source": [
    "model = ld.sibreg(S = S/N)\n",
    "model.simdata(V/N, N, simr = True)"
   ]
  },
  {
   "cell_type": "code",
   "execution_count": 126,
   "metadata": {},
   "outputs": [
    {
     "name": "stdout",
     "output_type": "stream",
     "text": [
      "[[-496.05642616]], [[0.5 0. ]\n",
      " [0.  0.5]]\n"
     ]
    },
    {
     "data": {
      "text/plain": [
       "(array([[496.05642616]]), array([-8.49013519,  0.14234813, -3.42182671]))"
      ]
     },
     "execution_count": 126,
     "metadata": {},
     "output_type": "execute_result"
    }
   ],
   "source": [
    "Vin = hp.extract_upper_triangle(V)\n",
    "model.neg_logll_grad(Vin)"
   ]
  },
  {
   "cell_type": "code",
   "execution_count": 127,
   "metadata": {},
   "outputs": [
    {
     "data": {
      "text/plain": [
       "True"
      ]
     },
     "execution_count": 127,
     "metadata": {},
     "output_type": "execute_result"
    }
   ],
   "source": [
    "# Testing derivatives\n",
    "aderiv = model._grad_ll_v(V, model.z[0, :], model.S[0], \n",
    "                 model.u[0], model.r[0])\n",
    "\n",
    "nderiv = model._num_grad_V(V, model.z[0, :], model.S[0], \n",
    "                 model.u[0], model.r[0])\n",
    "\n",
    "np.allclose(aderiv, nderiv)"
   ]
  },
  {
   "cell_type": "code",
   "execution_count": 128,
   "metadata": {},
   "outputs": [
    {
     "name": "stdout",
     "output_type": "stream",
     "text": [
      "No initial guess provided.\n",
      "Making 'optimal' matrix\n",
      "=================================================\n",
      "[[-502.24395926]], [[1.e-06 0.e+00]\n",
      " [0.e+00 1.e-06]]\n",
      "[[-492.98560822]], [[ 0.93088205 -0.0151067 ]\n",
      " [-0.0151067   0.36501093]]\n",
      "[[-448.84740534]], [[ 6.97560268 -0.11441377]\n",
      " [-0.11441377  4.81857516]]\n",
      "[[-425.82364735]], [[12.13580839 -0.20544997]\n",
      " [-0.20544997 10.53499634]]\n",
      "[[-409.02866994]], [[18.83266094 -0.36744339]\n",
      " [-0.36744339 18.5449561 ]]\n",
      "[[-400.27015521]], [[25.74246425 -0.59823765]\n",
      " [-0.59823765 26.7716278 ]]\n",
      "[[-396.11216297]], [[32.66517261 -0.91613092]\n",
      " [-0.91613092 34.75261823]]\n",
      "[[-394.6805829]], [[38.38584461 -1.28804962]\n",
      " [-1.28804962 40.93900707]]\n",
      "[[-394.36967019]], [[42.05224117 -1.632089  ]\n",
      " [-1.632089   44.42949577]]\n",
      "[[-394.33820747]], [[43.59701197 -1.83659738]\n",
      " [-1.83659738 45.52377153]]\n",
      "[[-394.33694264]], [[43.97046807 -1.89676211]\n",
      " [-1.89676211 45.60085837]]\n",
      "[[-394.33687747]], [[44.0366052  -1.90428749]\n",
      " [-1.90428749 45.54864464]]\n",
      "[[-394.33687069]], [[44.04461265 -1.90219298]\n",
      " [-1.90219298 45.51357319]]\n",
      "[[-394.33687065]], [[44.04326986 -1.90143063]\n",
      " [-1.90143063 45.51115051]]\n",
      "      fun: array([[394.33687065]])\n",
      " hess_inv: <3x3 LbfgsInvHessProduct with dtype=float64>\n",
      "      jac: array([-7.83804178e-07,  5.42476154e-07, -6.27068939e-08])\n",
      "  message: b'CONVERGENCE: NORM_OF_PROJECTED_GRADIENT_<=_PGTOL'\n",
      "     nfev: 14\n",
      "      nit: 13\n",
      "   status: 0\n",
      "  success: True\n",
      "        x: array([44.04326986, -1.90143063, 45.51115051])\n"
     ]
    }
   ],
   "source": [
    "# solving\n",
    "output, result = model.solve() #), gradfunc = model._num_grad_V\n",
    "print(result)"
   ]
  },
  {
   "cell_type": "code",
   "execution_count": 129,
   "metadata": {},
   "outputs": [
    {
     "data": {
      "text/plain": [
       "array([[44.04326986, -1.90143063],\n",
       "       [-1.90143063, 45.51115051]])"
      ]
     },
     "execution_count": 129,
     "metadata": {},
     "output_type": "execute_result"
    }
   ],
   "source": [
    "output"
   ]
  },
  {
   "cell_type": "code",
   "execution_count": 130,
   "metadata": {},
   "outputs": [],
   "source": [
    "modll = model._log_ll(V, model.z[0, :], model.S[0], \n",
    "                 model.u[0], model.r[0])"
   ]
  },
  {
   "cell_type": "code",
   "execution_count": 131,
   "metadata": {},
   "outputs": [
    {
     "name": "stdout",
     "output_type": "stream",
     "text": [
      "-7.331931129444859\n"
     ]
    }
   ],
   "source": [
    "V_norm = V\n",
    "S_inv_root = hp.calc_inv_root(model.S[0])\n",
    "dist = scipy.stats.multivariate_normal(mean = None,\n",
    "                                      cov = np.eye(V.shape[0]) + model.r[0] * S_inv_root @ V_norm @ S_inv_root)\n",
    "\n",
    "nlogll = dist.logpdf(model.z[0, :])\n",
    "print(nlogll)"
   ]
  },
  {
   "cell_type": "code",
   "execution_count": 132,
   "metadata": {},
   "outputs": [
    {
     "data": {
      "text/plain": [
       "array([[-7.33193113]])"
      ]
     },
     "execution_count": 132,
     "metadata": {},
     "output_type": "execute_result"
    }
   ],
   "source": [
    "modll"
   ]
  },
  {
   "cell_type": "markdown",
   "metadata": {},
   "source": [
    "# Playing with Derivatives"
   ]
  },
  {
   "cell_type": "code",
   "execution_count": 182,
   "metadata": {},
   "outputs": [
    {
     "name": "stdout",
     "output_type": "stream",
     "text": [
      "[[-496.05642616]], [[0.5 0. ]\n",
      " [0.  0.5]]\n"
     ]
    },
    {
     "data": {
      "text/plain": [
       "array([[-8.49013519,  0.14234813],\n",
       "       [ 0.14234813, -3.42182671]])"
      ]
     },
     "execution_count": 182,
     "metadata": {},
     "output_type": "execute_result"
    }
   ],
   "source": [
    "def neglogll(V):\n",
    "    \n",
    "    logll = model.neg_logll_grad(Vin)[0]\n",
    "    \n",
    "    return logll\n",
    "\n",
    "def anderiv(V):\n",
    "    \n",
    "    Vin = hp.extract_upper_triangle(V)\n",
    "    g = model.neg_logll_grad(Vin)[1]\n",
    "    g = hp.return_to_symmetric(g, V.shape[0])\n",
    "    \n",
    "    return g\n",
    "\n",
    "anderiv(V)"
   ]
  },
  {
   "cell_type": "code",
   "execution_count": 183,
   "metadata": {},
   "outputs": [
    {
     "name": "stdout",
     "output_type": "stream",
     "text": [
      "[[-496.05642616]], [[0.5 0. ]\n",
      " [0.  0.5]]\n",
      "[[-496.05642616]], [[0.5 0. ]\n",
      " [0.  0.5]]\n",
      "[[-496.05642616]], [[0.5 0. ]\n",
      " [0.  0.5]]\n",
      "[[-496.05642616]], [[0.5 0. ]\n",
      " [0.  0.5]]\n",
      "[[-496.05642616]], [[0.5 0. ]\n",
      " [0.  0.5]]\n",
      "[[-496.05642616]], [[0.5 0. ]\n",
      " [0.  0.5]]\n",
      "[[-496.05642616]], [[0.5 0. ]\n",
      " [0.  0.5]]\n",
      "[[-496.05642616]], [[0.5 0. ]\n",
      " [0.  0.5]]\n"
     ]
    },
    {
     "data": {
      "text/plain": [
       "array([[0., 0.],\n",
       "       [0., 0.]])"
      ]
     },
     "execution_count": 183,
     "metadata": {},
     "output_type": "execute_result"
    }
   ],
   "source": [
    "def nderiv(V):\n",
    "    \n",
    "    g = np.zeros(V.shape)\n",
    "    for i in range(0,V.shape[0]):\n",
    "        for j in range(0,V.shape[1]):\n",
    "            dV = np.zeros((V.shape))\n",
    "            dV[i,j] = 10 ** (-6)\n",
    "            V_upper = V+dV\n",
    "            V_lower = V-dV\n",
    "            g[i,j] = (neglogll(V_upper) - \\\n",
    "                      neglogll(V_lower)) / (2 * 10 ** (-6))\n",
    "    return g\n",
    "\n",
    "nderiv(V)"
   ]
  },
  {
   "cell_type": "code",
   "execution_count": 186,
   "metadata": {},
   "outputs": [
    {
     "name": "stdout",
     "output_type": "stream",
     "text": [
      "[[-496.05642616]], [[0.5 0. ]\n",
      " [0.  0.5]]\n"
     ]
    },
    {
     "data": {
      "text/plain": [
       "array([[-8.49013519,  0.14234813],\n",
       "       [ 0.14234813, -3.42182671]])"
      ]
     },
     "execution_count": 186,
     "metadata": {},
     "output_type": "execute_result"
    }
   ],
   "source": [
    "anderiv(V)"
   ]
  },
  {
   "cell_type": "code",
   "execution_count": 188,
   "metadata": {},
   "outputs": [
    {
     "name": "stdout",
     "output_type": "stream",
     "text": [
      "[[-496.05642616]], [[0.5 0. ]\n",
      " [0.  0.5]]\n",
      "[[-496.05642616]], [[0.5 0. ]\n",
      " [0.  0.5]]\n",
      "[[-496.05642616]], [[0.5 0. ]\n",
      " [0.  0.5]]\n",
      "[[-496.05642616]], [[0.5 0. ]\n",
      " [0.  0.5]]\n",
      "[[-496.05642616]], [[0.5 0. ]\n",
      " [0.  0.5]]\n",
      "[[-496.05642616]], [[0.5 0. ]\n",
      " [0.  0.5]]\n",
      "[[-496.05642616]], [[0.5 0. ]\n",
      " [0.  0.5]]\n",
      "[[-496.05642616]], [[0.5 0. ]\n",
      " [0.  0.5]]\n",
      "[[-496.05642616]], [[0.5 0. ]\n",
      " [0.  0.5]]\n"
     ]
    },
    {
     "data": {
      "text/plain": [
       "False"
      ]
     },
     "execution_count": 188,
     "metadata": {},
     "output_type": "execute_result"
    }
   ],
   "source": [
    "np.allclose(hp.extract_upper_triangle(anderiv(V)), hp.extract_upper_triangle(nderiv(V)))"
   ]
  },
  {
   "cell_type": "code",
   "execution_count": 235,
   "metadata": {},
   "outputs": [],
   "source": [
    "def alogll_grad(V):\n",
    "    \n",
    "    d = model.S[0].shape[0]\n",
    "    log_ll = 0\n",
    "    Gvec = np.zeros((d, d))\n",
    "    N = len(model.S)\n",
    "    V_norm = V/N\n",
    "    \n",
    "    for i in range(N):\n",
    "        Si = model.S[i]\n",
    "        zi = model.z[i, :].reshape((d, 1))\n",
    "        ui = model.u[i]\n",
    "        ri = model.r[i]\n",
    "        Si = N * Si \n",
    "\n",
    "\n",
    "        log_ll += (1/ui) * model._log_ll(V_norm , zi, Si, ui, ri)\n",
    "        Gvec += (1/ui) * model._grad_ll_v(V_norm, zi, Si, ui, ri)\n",
    "        \n",
    "    return -log_ll, -Gvec/N"
   ]
  },
  {
   "cell_type": "code",
   "execution_count": 236,
   "metadata": {},
   "outputs": [],
   "source": [
    "def nderiv(V):\n",
    "    \n",
    "    g = np.zeros(V.shape)\n",
    "    for i in range(0,V.shape[0]):\n",
    "        for j in range(0,V.shape[1]):\n",
    "            dV = np.zeros((V.shape))\n",
    "            dV[i,j] = 10 ** (-6)\n",
    "            V_upper = V+dV\n",
    "            V_lower = V-dV\n",
    "            g[i,j] = (alogll_grad(V_upper)[0] - \\\n",
    "                      alogll_grad(V_lower)[0]) / (2 * 10 ** (-6))\n",
    "    return g\n"
   ]
  },
  {
   "cell_type": "code",
   "execution_count": 237,
   "metadata": {},
   "outputs": [
    {
     "data": {
      "text/plain": [
       "array([[-8.49013526,  0.14234803],\n",
       "       [ 0.14234806, -3.42182679]])"
      ]
     },
     "execution_count": 237,
     "metadata": {},
     "output_type": "execute_result"
    }
   ],
   "source": [
    "nderiv(V)"
   ]
  },
  {
   "cell_type": "code",
   "execution_count": 238,
   "metadata": {},
   "outputs": [
    {
     "data": {
      "text/plain": [
       "array([[-8.49013519,  0.14234813],\n",
       "       [ 0.14234813, -3.42182671]])"
      ]
     },
     "execution_count": 238,
     "metadata": {},
     "output_type": "execute_result"
    }
   ],
   "source": [
    "alogll_grad(V)[1]"
   ]
  },
  {
   "cell_type": "code",
   "execution_count": 239,
   "metadata": {},
   "outputs": [
    {
     "data": {
      "text/plain": [
       "True"
      ]
     },
     "execution_count": 239,
     "metadata": {},
     "output_type": "execute_result"
    }
   ],
   "source": [
    "np.allclose(alogll_grad(V)[1], nderiv(V))"
   ]
  },
  {
   "cell_type": "code",
   "execution_count": 218,
   "metadata": {},
   "outputs": [
    {
     "data": {
      "text/plain": [
       "array([[394.66726514]])"
      ]
     },
     "execution_count": 218,
     "metadata": {},
     "output_type": "execute_result"
    }
   ],
   "source": [
    "alogll_grad(V)[0]"
   ]
  },
  {
   "cell_type": "code",
   "execution_count": 191,
   "metadata": {},
   "outputs": [
    {
     "name": "stdout",
     "output_type": "stream",
     "text": [
      "[[-496.05642616]], [[0.5 0. ]\n",
      " [0.  0.5]]\n"
     ]
    },
    {
     "data": {
      "text/plain": [
       "array([[496.05642616]])"
      ]
     },
     "execution_count": 191,
     "metadata": {},
     "output_type": "execute_result"
    }
   ],
   "source": [
    "neglogll(V)"
   ]
  },
  {
   "cell_type": "code",
   "execution_count": null,
   "metadata": {},
   "outputs": [],
   "source": []
  }
 ],
 "metadata": {
  "kernelspec": {
   "display_name": "Python 3",
   "language": "python",
   "name": "python3"
  },
  "language_info": {
   "codemirror_mode": {
    "name": "ipython",
    "version": 3
   },
   "file_extension": ".py",
   "mimetype": "text/x-python",
   "name": "python",
   "nbconvert_exporter": "python",
   "pygments_lexer": "ipython3",
   "version": "3.7.4"
  }
 },
 "nbformat": 4,
 "nbformat_minor": 4
}
